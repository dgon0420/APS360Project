{
  "nbformat": 4,
  "nbformat_minor": 0,
  "metadata": {
    "colab": {
      "name": "Progress Report.ipynb",
      "version": "0.3.2",
      "provenance": [],
      "collapsed_sections": [],
      "include_colab_link": true
    },
    "kernelspec": {
      "name": "python3",
      "display_name": "Python 3"
    }
  },
  "cells": [
    {
      "cell_type": "markdown",
      "metadata": {
        "id": "view-in-github",
        "colab_type": "text"
      },
      "source": [
        "<a href=\"https://colab.research.google.com/github/dgon0420/APS360Project/blob/master/Progress_Report.ipynb\" target=\"_parent\"><img src=\"https://colab.research.google.com/assets/colab-badge.svg\" alt=\"Open In Colab\"/></a>"
      ]
    },
    {
      "metadata": {
        "id": "ZEWlq6pvds8X",
        "colab_type": "text"
      },
      "cell_type": "markdown",
      "source": [
        "\n",
        "\n",
        "---\n",
        "\n",
        "\n",
        "Authors: \n",
        "---\n",
        "GONZALES, Daryl Junnel - 1002953422\n",
        "---\n",
        "XU, Haitong - 1002144841\n",
        "---\n",
        "\n",
        "\n",
        "---\n",
        "\n",
        "\n",
        "# LEARNING\n",
        "\n",
        "From our progress report with the TA, we had learned :\n",
        "\n",
        "1. It would be helpful to include some baseline model or comparison to make sure that our model, and idea is valid. We included this by trying out a nearest neighbor model with cosine similarity and euclidean distance to validate our model. This way, we can ensure that we are getting a better accuracy than these simplistic models and that machine learning was indeed necessary.\n",
        "2. He did not have much to say about our network as he was not competely knowledgeable about Siamese Networks. Therefore, no change was made in terms of what architecture was used and what processes were done to clean the data from what was originally planned. He did, however, tell us to use a network without weight sharing, that is, to feed the pokemon data one at a time like we normally do instead of two at a time like we do for Siamese Networks. This will help us fulfill the same objective as the baseline model.\n",
        "3. When implementing the architecture, there was confusion as to how we are able to incorporate the main use of Siamese Networks, which is one-shot image recognition for **similarity** purposes. When we raised this concern to our TA, he was not able to offer any valuable insight or suggestions, therefore we had decided to try something that we had not done in class. We employed a two-step model: a) an autoencoder to reconstruct the winning pokemon which gets fed into a b) classifier of the winning pokemon (0/1; with 0 being the first pokemon and 1 being the second). This will be trained for validity.\n",
        "\n",
        "From this, we had applied the following in our project and trained the network to our abilities.\n",
        "\n",
        "\n",
        "---\n",
        "\n",
        "\n"
      ]
    },
    {
      "metadata": {
        "id": "INuDTEHshlfs",
        "colab_type": "text"
      },
      "cell_type": "markdown",
      "source": [
        "# DATA COLLECTION\n",
        "## Google Colab Commands for File Upload From Google Drive via PyDrive"
      ]
    },
    {
      "metadata": {
        "id": "u75ltVCSU3GE",
        "colab_type": "code",
        "outputId": "3e2bfad9-6f38-41dc-baf7-f112bafe5f47",
        "colab": {
          "base_uri": "https://localhost:8080/",
          "height": 51
        }
      },
      "cell_type": "code",
      "source": [
        "####################### UPLOAD FILE FROM DRIVE ##########################\n",
        "# Code to read csv file into Colaboratory:\n",
        "!pip install -U -q PyDrive\n",
        "from pydrive.auth import GoogleAuth\n",
        "from pydrive.drive import GoogleDrive\n",
        "from google.colab import auth\n",
        "from oauth2client.client import GoogleCredentials\n",
        "\n",
        "# Authenticate and create the PyDrive client.\n",
        "auth.authenticate_user()\n",
        "gauth = GoogleAuth()\n",
        "gauth.credentials = GoogleCredentials.get_application_default()\n",
        "drive = GoogleDrive(gauth)"
      ],
      "execution_count": 0,
      "outputs": [
        {
          "output_type": "stream",
          "text": [
            "\u001b[?25l\r\u001b[K    1% |▎                               | 10kB 16.5MB/s eta 0:00:01\r\u001b[K    2% |▋                               | 20kB 1.8MB/s eta 0:00:01\r\u001b[K    3% |█                               | 30kB 2.6MB/s eta 0:00:01\r\u001b[K    4% |█▎                              | 40kB 1.7MB/s eta 0:00:01\r\u001b[K    5% |█▋                              | 51kB 2.1MB/s eta 0:00:01\r\u001b[K    6% |██                              | 61kB 2.5MB/s eta 0:00:01\r\u001b[K    7% |██▎                             | 71kB 2.8MB/s eta 0:00:01\r\u001b[K    8% |██▋                             | 81kB 3.2MB/s eta 0:00:01\r\u001b[K    9% |███                             | 92kB 3.6MB/s eta 0:00:01\r\u001b[K    10% |███▎                            | 102kB 2.8MB/s eta 0:00:01\r\u001b[K    11% |███▋                            | 112kB 2.8MB/s eta 0:00:01\r\u001b[K    12% |████                            | 122kB 4.0MB/s eta 0:00:01\r\u001b[K    13% |████▎                           | 133kB 4.0MB/s eta 0:00:01\r\u001b[K    14% |████▋                           | 143kB 7.5MB/s eta 0:00:01\r\u001b[K    15% |█████                           | 153kB 7.6MB/s eta 0:00:01\r\u001b[K    16% |█████▎                          | 163kB 7.6MB/s eta 0:00:01\r\u001b[K    17% |█████▋                          | 174kB 7.6MB/s eta 0:00:01\r\u001b[K    18% |██████                          | 184kB 7.7MB/s eta 0:00:01\r\u001b[K    19% |██████▎                         | 194kB 7.7MB/s eta 0:00:01\r\u001b[K    20% |██████▋                         | 204kB 40.4MB/s eta 0:00:01\r\u001b[K    21% |███████                         | 215kB 8.3MB/s eta 0:00:01\r\u001b[K    22% |███████▎                        | 225kB 8.3MB/s eta 0:00:01\r\u001b[K    23% |███████▋                        | 235kB 8.3MB/s eta 0:00:01\r\u001b[K    24% |████████                        | 245kB 8.4MB/s eta 0:00:01\r\u001b[K    25% |████████▎                       | 256kB 8.3MB/s eta 0:00:01\r\u001b[K    26% |████████▋                       | 266kB 8.2MB/s eta 0:00:01\r\u001b[K    27% |█████████                       | 276kB 8.3MB/s eta 0:00:01\r\u001b[K    29% |█████████▎                      | 286kB 8.3MB/s eta 0:00:01\r\u001b[K    30% |█████████▋                      | 296kB 8.3MB/s eta 0:00:01\r\u001b[K    31% |██████████                      | 307kB 8.5MB/s eta 0:00:01\r\u001b[K    32% |██████████▎                     | 317kB 49.0MB/s eta 0:00:01\r\u001b[K    33% |██████████▋                     | 327kB 51.0MB/s eta 0:00:01\r\u001b[K    34% |███████████                     | 337kB 52.8MB/s eta 0:00:01\r\u001b[K    35% |███████████▎                    | 348kB 47.2MB/s eta 0:00:01\r\u001b[K    36% |███████████▋                    | 358kB 47.5MB/s eta 0:00:01\r\u001b[K    37% |████████████                    | 368kB 54.7MB/s eta 0:00:01\r\u001b[K    38% |████████████▎                   | 378kB 54.9MB/s eta 0:00:01\r\u001b[K    39% |████████████▋                   | 389kB 55.1MB/s eta 0:00:01\r\u001b[K    40% |█████████████                   | 399kB 9.5MB/s eta 0:00:01\r\u001b[K    41% |█████████████▎                  | 409kB 9.3MB/s eta 0:00:01\r\u001b[K    42% |█████████████▋                  | 419kB 9.3MB/s eta 0:00:01\r\u001b[K    43% |██████████████                  | 430kB 9.3MB/s eta 0:00:01\r\u001b[K    44% |██████████████▎                 | 440kB 9.3MB/s eta 0:00:01\r\u001b[K    45% |██████████████▋                 | 450kB 9.4MB/s eta 0:00:01\r\u001b[K    46% |███████████████                 | 460kB 9.3MB/s eta 0:00:01\r\u001b[K    47% |███████████████▎                | 471kB 9.3MB/s eta 0:00:01\r\u001b[K    48% |███████████████▋                | 481kB 9.3MB/s eta 0:00:01\r\u001b[K    49% |████████████████                | 491kB 9.3MB/s eta 0:00:01\r\u001b[K    50% |████████████████▎               | 501kB 51.2MB/s eta 0:00:01\r\u001b[K    51% |████████████████▋               | 512kB 51.0MB/s eta 0:00:01\r\u001b[K    52% |█████████████████               | 522kB 52.1MB/s eta 0:00:01\r\u001b[K    53% |█████████████████▎              | 532kB 53.2MB/s eta 0:00:01\r\u001b[K    54% |█████████████████▋              | 542kB 8.8MB/s eta 0:00:01\r\u001b[K    55% |██████████████████              | 552kB 8.8MB/s eta 0:00:01\r\u001b[K    57% |██████████████████▎             | 563kB 8.7MB/s eta 0:00:01\r\u001b[K    58% |██████████████████▋             | 573kB 8.7MB/s eta 0:00:01\r\u001b[K    59% |███████████████████             | 583kB 8.7MB/s eta 0:00:01\r\u001b[K    60% |███████████████████▎            | 593kB 8.7MB/s eta 0:00:01\r\u001b[K    61% |███████████████████▋            | 604kB 8.7MB/s eta 0:00:01\r\u001b[K    62% |████████████████████            | 614kB 8.8MB/s eta 0:00:01\r\u001b[K    63% |████████████████████▎           | 624kB 8.8MB/s eta 0:00:01\r\u001b[K    64% |████████████████████▋           | 634kB 8.8MB/s eta 0:00:01\r\u001b[K    65% |█████████████████████           | 645kB 52.1MB/s eta 0:00:01\r\u001b[K    66% |█████████████████████▎          | 655kB 55.5MB/s eta 0:00:01\r\u001b[K    67% |█████████████████████▋          | 665kB 44.8MB/s eta 0:00:01\r\u001b[K    68% |██████████████████████          | 675kB 45.5MB/s eta 0:00:01\r\u001b[K    69% |██████████████████████▎         | 686kB 45.6MB/s eta 0:00:01\r\u001b[K    70% |██████████████████████▋         | 696kB 45.9MB/s eta 0:00:01\r\u001b[K    71% |███████████████████████         | 706kB 45.7MB/s eta 0:00:01\r\u001b[K    72% |███████████████████████▎        | 716kB 45.8MB/s eta 0:00:01\r\u001b[K    73% |███████████████████████▋        | 727kB 45.8MB/s eta 0:00:01\r\u001b[K    74% |████████████████████████        | 737kB 45.9MB/s eta 0:00:01\r\u001b[K    75% |████████████████████████▎       | 747kB 46.4MB/s eta 0:00:01\r\u001b[K    76% |████████████████████████▋       | 757kB 46.5MB/s eta 0:00:01\r\u001b[K    77% |████████████████████████▉       | 768kB 62.9MB/s eta 0:00:01\r\u001b[K    78% |█████████████████████████▏      | 778kB 63.3MB/s eta 0:00:01\r\u001b[K    79% |█████████████████████████▌      | 788kB 61.7MB/s eta 0:00:01\r\u001b[K    80% |█████████████████████████▉      | 798kB 61.1MB/s eta 0:00:01\r\u001b[K    81% |██████████████████████████▏     | 808kB 60.9MB/s eta 0:00:01\r\u001b[K    82% |██████████████████████████▌     | 819kB 60.5MB/s eta 0:00:01\r\u001b[K    83% |██████████████████████████▉     | 829kB 61.7MB/s eta 0:00:01\r\u001b[K    85% |███████████████████████████▏    | 839kB 61.3MB/s eta 0:00:01\r\u001b[K    86% |███████████████████████████▌    | 849kB 59.9MB/s eta 0:00:01\r\u001b[K    87% |███████████████████████████▉    | 860kB 50.5MB/s eta 0:00:01\r\u001b[K    88% |████████████████████████████▏   | 870kB 49.2MB/s eta 0:00:01\r\u001b[K    89% |████████████████████████████▌   | 880kB 49.6MB/s eta 0:00:01\r\u001b[K    90% |████████████████████████████▉   | 890kB 50.8MB/s eta 0:00:01\r\u001b[K    91% |█████████████████████████████▏  | 901kB 50.3MB/s eta 0:00:01\r\u001b[K    92% |█████████████████████████████▌  | 911kB 50.4MB/s eta 0:00:01\r\u001b[K    93% |█████████████████████████████▉  | 921kB 50.5MB/s eta 0:00:01\r\u001b[K    94% |██████████████████████████████▏ | 931kB 50.1MB/s eta 0:00:01\r\u001b[K    95% |██████████████████████████████▌ | 942kB 50.3MB/s eta 0:00:01\r\u001b[K    96% |██████████████████████████████▉ | 952kB 50.5MB/s eta 0:00:01\r\u001b[K    97% |███████████████████████████████▏| 962kB 59.8MB/s eta 0:00:01\r\u001b[K    98% |███████████████████████████████▌| 972kB 61.6MB/s eta 0:00:01\r\u001b[K    99% |███████████████████████████████▉| 983kB 61.7MB/s eta 0:00:01\r\u001b[K    100% |████████████████████████████████| 993kB 19.8MB/s \n",
            "\u001b[?25h  Building wheel for PyDrive (setup.py) ... \u001b[?25ldone\n",
            "\u001b[?25h"
          ],
          "name": "stdout"
        }
      ]
    },
    {
      "metadata": {
        "id": "bDfv15nnV11_",
        "colab_type": "code",
        "colab": {}
      },
      "cell_type": "code",
      "source": [
        "# The shareable links for all the files\n",
        "# COMBATS\n",
        "link1 = 'https://drive.google.com/open?id=1TIeX5Hm-kwAgndl6yz_MbDkday-46RpU' \n",
        "fluff, id1 = link1.split('=')\n",
        "downloaded = drive.CreateFile({'id':id1}) \n",
        "downloaded.GetContentFile('combats.csv')\n",
        "\n",
        "# IMAGES\n",
        "link2 = 'https://drive.google.com/open?id=1KasWhEQ-8sJlTSTLiS6gIFnzyPZYMd1d'\n",
        "fluff, id2 = link2.split('=')\n",
        "downloaded = drive.CreateFile({'id':id2}) \n",
        "downloaded.GetContentFile('images.zip')\n",
        "\n",
        "# ATTRIBUTES\n",
        "link3 = 'https://drive.google.com/open?id=1JHGWhuOU2wT2eIF_uO6PI68UkLsvAEty'\n",
        "fluff, id3 = link3.split('=')\n",
        "downloaded = drive.CreateFile({'id':id3}) \n",
        "downloaded.GetContentFile('pokemon.csv')\n",
        "\n",
        "# STRENGTH\n",
        "link4 = 'https://drive.google.com/open?id=1YtCcrBrIrBAHhtp7LxBiaWsDEGMOdzEw'\n",
        "fluff, id4 = link4.split('=')\n",
        "downloaded = drive.CreateFile({'id':id4}) \n",
        "downloaded.GetContentFile('strength.csv')\n",
        "\n",
        "# TESTS\n",
        "link5 = 'https://drive.google.com/open?id=1zagBB5xEQaMO-3eH6Yk4zebkLzJ-2aqo'\n",
        "fluff, id5 = link5.split('=')\n",
        "downloaded = drive.CreateFile({'id':id5}) \n",
        "downloaded.GetContentFile('tests.csv')"
      ],
      "execution_count": 0,
      "outputs": []
    },
    {
      "metadata": {
        "id": "TfhzSzCEkvk9",
        "colab_type": "code",
        "colab": {}
      },
      "cell_type": "code",
      "source": [
        "# Importing necessary libraries\n",
        "import csv\n",
        "import numpy as np\n",
        "import random\n",
        "import torch\n",
        "import torch.utils.data\n",
        "import pandas as pd\n",
        "import io\n",
        "import zipfile\n",
        "import matplotlib.pyplot as plt"
      ],
      "execution_count": 0,
      "outputs": []
    },
    {
      "metadata": {
        "id": "kNT1L-USktmD",
        "colab_type": "text"
      },
      "cell_type": "markdown",
      "source": [
        "## Loading Sources of Data"
      ]
    },
    {
      "metadata": {
        "id": "yfeAeFK5yCjx",
        "colab_type": "code",
        "colab": {}
      },
      "cell_type": "code",
      "source": [
        "attributes = pd.read_csv('pokemon.csv')\n",
        "strengths = pd.read_csv('strength.csv')\n",
        "combat_history = pd.read_csv('combats.csv')\n",
        "test = pd.read_csv('tests.csv')\n",
        "images = zipfile.ZipFile(('images.zip'), 'r')\n",
        "images.extractall()"
      ],
      "execution_count": 0,
      "outputs": []
    },
    {
      "metadata": {
        "id": "DR_X8TS-DZN8",
        "colab_type": "text"
      },
      "cell_type": "markdown",
      "source": [
        "## Visualizing the Different Datasets\n",
        "### Attributes Dataset\n",
        "This dataset contains the basic stats and attributes of 800 pokemons, and can be divided into continuous and categorical features.\n",
        "\n",
        "#### Continuous Features\n",
        "The continuous features in this dataset include:\n",
        "1. HP (hit points)\n",
        "2. Attack\t\n",
        "3. Defense\t\n",
        "4. Special Attack\n",
        "5. Special Defense\t\n",
        "6. Speed\n",
        "\n",
        "#### Categorical Features\n",
        "The categorical features in this dataset include:\n",
        "1. Type 1 (primary type)\n",
        "2. Type 2 (secondary type)\n",
        "3. Generation (1-6,  depending on stage of evolution)\n",
        "4. Legendary status"
      ]
    },
    {
      "metadata": {
        "id": "pywhgrwpyCza",
        "colab_type": "code",
        "outputId": "5f70f90f-95ca-4d01-fbfd-11d0f54f0463",
        "colab": {
          "base_uri": "https://localhost:8080/",
          "height": 275
        }
      },
      "cell_type": "code",
      "source": [
        "(row, col) = attributes.shape\n",
        "print('There are {} pokemons in the attributes dataset.'.format(row))\n",
        "attributes[:5]"
      ],
      "execution_count": 0,
      "outputs": [
        {
          "output_type": "stream",
          "text": [
            "There are 800 pokemons in the attributes dataset.\n"
          ],
          "name": "stdout"
        },
        {
          "output_type": "execute_result",
          "data": {
            "text/html": [
              "<div>\n",
              "<style scoped>\n",
              "    .dataframe tbody tr th:only-of-type {\n",
              "        vertical-align: middle;\n",
              "    }\n",
              "\n",
              "    .dataframe tbody tr th {\n",
              "        vertical-align: top;\n",
              "    }\n",
              "\n",
              "    .dataframe thead th {\n",
              "        text-align: right;\n",
              "    }\n",
              "</style>\n",
              "<table border=\"1\" class=\"dataframe\">\n",
              "  <thead>\n",
              "    <tr style=\"text-align: right;\">\n",
              "      <th></th>\n",
              "      <th>#</th>\n",
              "      <th>Name</th>\n",
              "      <th>Type 1</th>\n",
              "      <th>Type 2</th>\n",
              "      <th>HP</th>\n",
              "      <th>Attack</th>\n",
              "      <th>Defense</th>\n",
              "      <th>Sp. Atk</th>\n",
              "      <th>Sp. Def</th>\n",
              "      <th>Speed</th>\n",
              "      <th>Generation</th>\n",
              "      <th>Legendary</th>\n",
              "    </tr>\n",
              "  </thead>\n",
              "  <tbody>\n",
              "    <tr>\n",
              "      <th>0</th>\n",
              "      <td>1</td>\n",
              "      <td>Bulbasaur</td>\n",
              "      <td>Grass</td>\n",
              "      <td>Poison</td>\n",
              "      <td>45</td>\n",
              "      <td>49</td>\n",
              "      <td>49</td>\n",
              "      <td>65</td>\n",
              "      <td>65</td>\n",
              "      <td>45</td>\n",
              "      <td>1</td>\n",
              "      <td>False</td>\n",
              "    </tr>\n",
              "    <tr>\n",
              "      <th>1</th>\n",
              "      <td>2</td>\n",
              "      <td>Ivysaur</td>\n",
              "      <td>Grass</td>\n",
              "      <td>Poison</td>\n",
              "      <td>60</td>\n",
              "      <td>62</td>\n",
              "      <td>63</td>\n",
              "      <td>80</td>\n",
              "      <td>80</td>\n",
              "      <td>60</td>\n",
              "      <td>1</td>\n",
              "      <td>False</td>\n",
              "    </tr>\n",
              "    <tr>\n",
              "      <th>2</th>\n",
              "      <td>3</td>\n",
              "      <td>Venusaur</td>\n",
              "      <td>Grass</td>\n",
              "      <td>Poison</td>\n",
              "      <td>80</td>\n",
              "      <td>82</td>\n",
              "      <td>83</td>\n",
              "      <td>100</td>\n",
              "      <td>100</td>\n",
              "      <td>80</td>\n",
              "      <td>1</td>\n",
              "      <td>False</td>\n",
              "    </tr>\n",
              "    <tr>\n",
              "      <th>3</th>\n",
              "      <td>4</td>\n",
              "      <td>Mega Venusaur</td>\n",
              "      <td>Grass</td>\n",
              "      <td>Poison</td>\n",
              "      <td>80</td>\n",
              "      <td>100</td>\n",
              "      <td>123</td>\n",
              "      <td>122</td>\n",
              "      <td>120</td>\n",
              "      <td>80</td>\n",
              "      <td>1</td>\n",
              "      <td>False</td>\n",
              "    </tr>\n",
              "    <tr>\n",
              "      <th>4</th>\n",
              "      <td>5</td>\n",
              "      <td>Charmander</td>\n",
              "      <td>Fire</td>\n",
              "      <td>NaN</td>\n",
              "      <td>39</td>\n",
              "      <td>52</td>\n",
              "      <td>43</td>\n",
              "      <td>60</td>\n",
              "      <td>50</td>\n",
              "      <td>65</td>\n",
              "      <td>1</td>\n",
              "      <td>False</td>\n",
              "    </tr>\n",
              "  </tbody>\n",
              "</table>\n",
              "</div>"
            ],
            "text/plain": [
              "   #           Name Type 1  Type 2  HP  Attack  Defense  Sp. Atk  Sp. Def  \\\n",
              "0  1      Bulbasaur  Grass  Poison  45      49       49       65       65   \n",
              "1  2        Ivysaur  Grass  Poison  60      62       63       80       80   \n",
              "2  3       Venusaur  Grass  Poison  80      82       83      100      100   \n",
              "3  4  Mega Venusaur  Grass  Poison  80     100      123      122      120   \n",
              "4  5     Charmander   Fire     NaN  39      52       43       60       50   \n",
              "\n",
              "   Speed  Generation  Legendary  \n",
              "0     45           1      False  \n",
              "1     60           1      False  \n",
              "2     80           1      False  \n",
              "3     80           1      False  \n",
              "4     65           1      False  "
            ]
          },
          "metadata": {
            "tags": []
          },
          "execution_count": 6
        }
      ]
    },
    {
      "metadata": {
        "id": "Kvq2SaJxKQ-X",
        "colab_type": "text"
      },
      "cell_type": "markdown",
      "source": [
        "### Strengths Dataset\n",
        "This dataset contains  how each pokemon fares when dealing against attacks from all the other types of pokemons in 0.5 increments.\n",
        "\n",
        "1. 0.5 - Weak\n",
        "2. 1.0 - Normal \n",
        "3. 1.5 - Strong\n",
        "4. 2.0 - Impervious"
      ]
    },
    {
      "metadata": {
        "id": "HIAhDvz9yC5s",
        "colab_type": "code",
        "outputId": "bad2f674-aaf2-4036-c6d8-8eeca4fc09ca",
        "colab": {
          "base_uri": "https://localhost:8080/",
          "height": 389
        }
      },
      "cell_type": "code",
      "source": [
        "(row, col) = strengths.shape\n",
        "print('There are {} pokemons in the strengths dataset.'.format(row))\n",
        "strengths[:5]"
      ],
      "execution_count": 0,
      "outputs": [
        {
          "output_type": "stream",
          "text": [
            "There are 801 pokemons in the strengths dataset.\n"
          ],
          "name": "stdout"
        },
        {
          "output_type": "execute_result",
          "data": {
            "text/html": [
              "<div>\n",
              "<style scoped>\n",
              "    .dataframe tbody tr th:only-of-type {\n",
              "        vertical-align: middle;\n",
              "    }\n",
              "\n",
              "    .dataframe tbody tr th {\n",
              "        vertical-align: top;\n",
              "    }\n",
              "\n",
              "    .dataframe thead th {\n",
              "        text-align: right;\n",
              "    }\n",
              "</style>\n",
              "<table border=\"1\" class=\"dataframe\">\n",
              "  <thead>\n",
              "    <tr style=\"text-align: right;\">\n",
              "      <th></th>\n",
              "      <th>abilities</th>\n",
              "      <th>against_bug</th>\n",
              "      <th>against_dark</th>\n",
              "      <th>against_dragon</th>\n",
              "      <th>against_electric</th>\n",
              "      <th>against_fairy</th>\n",
              "      <th>against_fight</th>\n",
              "      <th>against_fire</th>\n",
              "      <th>against_flying</th>\n",
              "      <th>against_ghost</th>\n",
              "      <th>...</th>\n",
              "      <th>percentage_male</th>\n",
              "      <th>pokedex_number</th>\n",
              "      <th>sp_attack</th>\n",
              "      <th>sp_defense</th>\n",
              "      <th>speed</th>\n",
              "      <th>type1</th>\n",
              "      <th>type2</th>\n",
              "      <th>weight_kg</th>\n",
              "      <th>generation</th>\n",
              "      <th>is_legendary</th>\n",
              "    </tr>\n",
              "  </thead>\n",
              "  <tbody>\n",
              "    <tr>\n",
              "      <th>0</th>\n",
              "      <td>['Overgrow', 'Chlorophyll']</td>\n",
              "      <td>1.0</td>\n",
              "      <td>1.0</td>\n",
              "      <td>1.0</td>\n",
              "      <td>0.5</td>\n",
              "      <td>0.5</td>\n",
              "      <td>0.5</td>\n",
              "      <td>2.0</td>\n",
              "      <td>2.0</td>\n",
              "      <td>1.0</td>\n",
              "      <td>...</td>\n",
              "      <td>88.1</td>\n",
              "      <td>1</td>\n",
              "      <td>65</td>\n",
              "      <td>65</td>\n",
              "      <td>45</td>\n",
              "      <td>grass</td>\n",
              "      <td>poison</td>\n",
              "      <td>6.9</td>\n",
              "      <td>1</td>\n",
              "      <td>0</td>\n",
              "    </tr>\n",
              "    <tr>\n",
              "      <th>1</th>\n",
              "      <td>['Overgrow', 'Chlorophyll']</td>\n",
              "      <td>1.0</td>\n",
              "      <td>1.0</td>\n",
              "      <td>1.0</td>\n",
              "      <td>0.5</td>\n",
              "      <td>0.5</td>\n",
              "      <td>0.5</td>\n",
              "      <td>2.0</td>\n",
              "      <td>2.0</td>\n",
              "      <td>1.0</td>\n",
              "      <td>...</td>\n",
              "      <td>88.1</td>\n",
              "      <td>2</td>\n",
              "      <td>80</td>\n",
              "      <td>80</td>\n",
              "      <td>60</td>\n",
              "      <td>grass</td>\n",
              "      <td>poison</td>\n",
              "      <td>13.0</td>\n",
              "      <td>1</td>\n",
              "      <td>0</td>\n",
              "    </tr>\n",
              "    <tr>\n",
              "      <th>2</th>\n",
              "      <td>['Overgrow', 'Chlorophyll']</td>\n",
              "      <td>1.0</td>\n",
              "      <td>1.0</td>\n",
              "      <td>1.0</td>\n",
              "      <td>0.5</td>\n",
              "      <td>0.5</td>\n",
              "      <td>0.5</td>\n",
              "      <td>2.0</td>\n",
              "      <td>2.0</td>\n",
              "      <td>1.0</td>\n",
              "      <td>...</td>\n",
              "      <td>88.1</td>\n",
              "      <td>3</td>\n",
              "      <td>122</td>\n",
              "      <td>120</td>\n",
              "      <td>80</td>\n",
              "      <td>grass</td>\n",
              "      <td>poison</td>\n",
              "      <td>100.0</td>\n",
              "      <td>1</td>\n",
              "      <td>0</td>\n",
              "    </tr>\n",
              "    <tr>\n",
              "      <th>3</th>\n",
              "      <td>['Blaze', 'Solar Power']</td>\n",
              "      <td>0.5</td>\n",
              "      <td>1.0</td>\n",
              "      <td>1.0</td>\n",
              "      <td>1.0</td>\n",
              "      <td>0.5</td>\n",
              "      <td>1.0</td>\n",
              "      <td>0.5</td>\n",
              "      <td>1.0</td>\n",
              "      <td>1.0</td>\n",
              "      <td>...</td>\n",
              "      <td>88.1</td>\n",
              "      <td>4</td>\n",
              "      <td>60</td>\n",
              "      <td>50</td>\n",
              "      <td>65</td>\n",
              "      <td>fire</td>\n",
              "      <td>NaN</td>\n",
              "      <td>8.5</td>\n",
              "      <td>1</td>\n",
              "      <td>0</td>\n",
              "    </tr>\n",
              "    <tr>\n",
              "      <th>4</th>\n",
              "      <td>['Blaze', 'Solar Power']</td>\n",
              "      <td>0.5</td>\n",
              "      <td>1.0</td>\n",
              "      <td>1.0</td>\n",
              "      <td>1.0</td>\n",
              "      <td>0.5</td>\n",
              "      <td>1.0</td>\n",
              "      <td>0.5</td>\n",
              "      <td>1.0</td>\n",
              "      <td>1.0</td>\n",
              "      <td>...</td>\n",
              "      <td>88.1</td>\n",
              "      <td>5</td>\n",
              "      <td>80</td>\n",
              "      <td>65</td>\n",
              "      <td>80</td>\n",
              "      <td>fire</td>\n",
              "      <td>NaN</td>\n",
              "      <td>19.0</td>\n",
              "      <td>1</td>\n",
              "      <td>0</td>\n",
              "    </tr>\n",
              "  </tbody>\n",
              "</table>\n",
              "<p>5 rows × 41 columns</p>\n",
              "</div>"
            ],
            "text/plain": [
              "                     abilities  against_bug  against_dark  against_dragon  \\\n",
              "0  ['Overgrow', 'Chlorophyll']          1.0           1.0             1.0   \n",
              "1  ['Overgrow', 'Chlorophyll']          1.0           1.0             1.0   \n",
              "2  ['Overgrow', 'Chlorophyll']          1.0           1.0             1.0   \n",
              "3     ['Blaze', 'Solar Power']          0.5           1.0             1.0   \n",
              "4     ['Blaze', 'Solar Power']          0.5           1.0             1.0   \n",
              "\n",
              "   against_electric  against_fairy  against_fight  against_fire  \\\n",
              "0               0.5            0.5            0.5           2.0   \n",
              "1               0.5            0.5            0.5           2.0   \n",
              "2               0.5            0.5            0.5           2.0   \n",
              "3               1.0            0.5            1.0           0.5   \n",
              "4               1.0            0.5            1.0           0.5   \n",
              "\n",
              "   against_flying  against_ghost      ...       percentage_male  \\\n",
              "0             2.0            1.0      ...                  88.1   \n",
              "1             2.0            1.0      ...                  88.1   \n",
              "2             2.0            1.0      ...                  88.1   \n",
              "3             1.0            1.0      ...                  88.1   \n",
              "4             1.0            1.0      ...                  88.1   \n",
              "\n",
              "   pokedex_number  sp_attack  sp_defense  speed  type1   type2  weight_kg  \\\n",
              "0               1         65          65     45  grass  poison        6.9   \n",
              "1               2         80          80     60  grass  poison       13.0   \n",
              "2               3        122         120     80  grass  poison      100.0   \n",
              "3               4         60          50     65   fire     NaN        8.5   \n",
              "4               5         80          65     80   fire     NaN       19.0   \n",
              "\n",
              "   generation  is_legendary  \n",
              "0           1             0  \n",
              "1           1             0  \n",
              "2           1             0  \n",
              "3           1             0  \n",
              "4           1             0  \n",
              "\n",
              "[5 rows x 41 columns]"
            ]
          },
          "metadata": {
            "tags": []
          },
          "execution_count": 7
        }
      ]
    },
    {
      "metadata": {
        "id": "7WM38R3zGXRd",
        "colab_type": "text"
      },
      "cell_type": "markdown",
      "source": [
        "### Combat History Dataset\n",
        "Simple dataset containing 1v1 pokemon battles and the respective winners from those matches. The numbers for these pokemons correspond to the indexn number '#' in the ```attributes``` dataset. \n",
        "\n"
      ]
    },
    {
      "metadata": {
        "id": "-5ZtU_f7yC2j",
        "colab_type": "code",
        "outputId": "5cc96962-483c-4c9b-bda5-c6203585f745",
        "colab": {
          "base_uri": "https://localhost:8080/",
          "height": 221
        }
      },
      "cell_type": "code",
      "source": [
        "(row, col) = combat_history.shape\n",
        "print('There are {} matches in the combat_history dataset.'.format(row))\n",
        "combat_history[:5]"
      ],
      "execution_count": 0,
      "outputs": [
        {
          "output_type": "stream",
          "text": [
            "There are 50000 matches in the combat_history dataset.\n"
          ],
          "name": "stdout"
        },
        {
          "output_type": "execute_result",
          "data": {
            "text/html": [
              "<div>\n",
              "<style scoped>\n",
              "    .dataframe tbody tr th:only-of-type {\n",
              "        vertical-align: middle;\n",
              "    }\n",
              "\n",
              "    .dataframe tbody tr th {\n",
              "        vertical-align: top;\n",
              "    }\n",
              "\n",
              "    .dataframe thead th {\n",
              "        text-align: right;\n",
              "    }\n",
              "</style>\n",
              "<table border=\"1\" class=\"dataframe\">\n",
              "  <thead>\n",
              "    <tr style=\"text-align: right;\">\n",
              "      <th></th>\n",
              "      <th>First_pokemon</th>\n",
              "      <th>Second_pokemon</th>\n",
              "      <th>Winner</th>\n",
              "    </tr>\n",
              "  </thead>\n",
              "  <tbody>\n",
              "    <tr>\n",
              "      <th>0</th>\n",
              "      <td>266</td>\n",
              "      <td>298</td>\n",
              "      <td>298</td>\n",
              "    </tr>\n",
              "    <tr>\n",
              "      <th>1</th>\n",
              "      <td>702</td>\n",
              "      <td>701</td>\n",
              "      <td>701</td>\n",
              "    </tr>\n",
              "    <tr>\n",
              "      <th>2</th>\n",
              "      <td>191</td>\n",
              "      <td>668</td>\n",
              "      <td>668</td>\n",
              "    </tr>\n",
              "    <tr>\n",
              "      <th>3</th>\n",
              "      <td>237</td>\n",
              "      <td>683</td>\n",
              "      <td>683</td>\n",
              "    </tr>\n",
              "    <tr>\n",
              "      <th>4</th>\n",
              "      <td>151</td>\n",
              "      <td>231</td>\n",
              "      <td>151</td>\n",
              "    </tr>\n",
              "  </tbody>\n",
              "</table>\n",
              "</div>"
            ],
            "text/plain": [
              "   First_pokemon  Second_pokemon  Winner\n",
              "0            266             298     298\n",
              "1            702             701     701\n",
              "2            191             668     668\n",
              "3            237             683     683\n",
              "4            151             231     151"
            ]
          },
          "metadata": {
            "tags": []
          },
          "execution_count": 8
        }
      ]
    },
    {
      "metadata": {
        "id": "1sG-nDAv0C3v",
        "colab_type": "code",
        "outputId": "eced021e-2bd2-4525-f0b2-cc133717a325",
        "colab": {
          "base_uri": "https://localhost:8080/",
          "height": 122
        }
      },
      "cell_type": "code",
      "source": [
        "!pip install Unidecode"
      ],
      "execution_count": 0,
      "outputs": [
        {
          "output_type": "stream",
          "text": [
            "Collecting Unidecode\n",
            "\u001b[?25l  Downloading https://files.pythonhosted.org/packages/31/39/53096f9217b057cb049fe872b7fc7ce799a1a89b76cf917d9639e7a558b5/Unidecode-1.0.23-py2.py3-none-any.whl (237kB)\n",
            "\u001b[K    100% |████████████████████████████████| 245kB 7.3MB/s \n",
            "\u001b[?25hInstalling collected packages: Unidecode\n",
            "Successfully installed Unidecode-1.0.23\n"
          ],
          "name": "stdout"
        }
      ]
    },
    {
      "metadata": {
        "id": "ev5MKTjiyC8n",
        "colab_type": "code",
        "outputId": "9b834ae2-f32e-4229-f52d-2575c7e1e146",
        "colab": {
          "base_uri": "https://localhost:8080/",
          "height": 972
        }
      },
      "cell_type": "code",
      "source": [
        "from unidecode import unidecode as dec\n",
        "for i in range(20,25):\n",
        "    first = combat_history['First_pokemon'][i]\n",
        "    first = attributes['Name'][int(first)]\n",
        "    second = combat_history['Second_pokemon'][i]\n",
        "    second = attributes['Name'][int(second)]\n",
        "    winner = combat_history['Winner'][i]\n",
        "    winner = attributes['Name'][int(winner)]\n",
        "    \n",
        "    contenders = [(plt.imread('images/' + dec(first.lower().replace(' ', '-')) \n",
        "                              + '.png')), \n",
        "                  (plt.imread('images/' +  dec(second.lower().replace(' ', '-')) \n",
        "                              + '.png'))]\n",
        "    print(\"||  MATCH {}\".format(i+1))\n",
        "    fig = plt.figure(figsize=(3.5,2))\n",
        "    for j, image in enumerate(contenders):\n",
        "        sub = fig.add_subplot(1, len(contenders), j+1)\n",
        "        plt.axis('off')\n",
        "        plt.imshow(image)\n",
        "    plt.show()\n",
        "    print(\"||   {}  vs  {}\".format(first, second))\n",
        "    print(\"||   Winner: {}\".format(winner))\n",
        "    print(\"|| =============================\")"
      ],
      "execution_count": 0,
      "outputs": [
        {
          "output_type": "stream",
          "text": [
            "||  MATCH 21\n"
          ],
          "name": "stdout"
        },
        {
          "output_type": "display_data",
          "data": {
            "image/png": "[encoded data removed]",
            "text/plain": [
              "<Figure size 252x144 with 2 Axes>"
            ]
          },
          "metadata": {
            "tags": []
          }
        },
        {
          "output_type": "stream",
          "text": [
            "||   Empoleon  vs  Bouffalant\n",
            "||   Winner: Bouffalant\n",
            "|| =============================\n",
            "||  MATCH 22\n"
          ],
          "name": "stdout"
        },
        {
          "output_type": "display_data",
          "data": {
            "image/png": "[encoded data removed]",
            "text/plain": [
              "<Figure size 252x144 with 2 Axes>"
            ]
          },
          "metadata": {
            "tags": []
          }
        },
        {
          "output_type": "stream",
          "text": [
            "||   Corphish  vs  Starly\n",
            "||   Winner: Starly\n",
            "|| =============================\n",
            "||  MATCH 23\n"
          ],
          "name": "stdout"
        },
        {
          "output_type": "display_data",
          "data": {
            "image/png": "[encoded data removed]",
            "text/plain": [
              "<Figure size 252x144 with 2 Axes>"
            ]
          },
          "metadata": {
            "tags": []
          }
        },
        {
          "output_type": "stream",
          "text": [
            "||   Jellicent  vs  Axew\n",
            "||   Winner: Axew\n",
            "|| =============================\n",
            "||  MATCH 24\n"
          ],
          "name": "stdout"
        },
        {
          "output_type": "display_data",
          "data": {
            "image/png": "[encoded data removed]",
            "text/plain": [
              "<Figure size 252x144 with 2 Axes>"
            ]
          },
          "metadata": {
            "tags": []
          }
        },
        {
          "output_type": "stream",
          "text": [
            "||   Chansey  vs  Torkoal\n",
            "||   Winner: Chansey\n",
            "|| =============================\n",
            "||  MATCH 25\n"
          ],
          "name": "stdout"
        },
        {
          "output_type": "display_data",
          "data": {
            "image/png": "[encoded data removed]",
            "text/plain": [
              "<Figure size 252x144 with 2 Axes>"
            ]
          },
          "metadata": {
            "tags": []
          }
        },
        {
          "output_type": "stream",
          "text": [
            "||   Lilligant  vs  Karrablast\n",
            "||   Winner: Karrablast\n",
            "|| =============================\n"
          ],
          "name": "stdout"
        }
      ]
    },
    {
      "metadata": {
        "id": "uG-4JWZJQKsx",
        "colab_type": "text"
      },
      "cell_type": "markdown",
      "source": [
        "## Data Cleaning\n",
        "### Cleaning the Attributes Dataset\n",
        "#### Headers\n",
        "Making the headers consistent by having them all lowercase without any spaces would make for easier manipulation of the dataframe."
      ]
    },
    {
      "metadata": {
        "id": "Bwu3zNbNBA4r",
        "colab_type": "code",
        "colab": {}
      },
      "cell_type": "code",
      "source": [
        "attributes.columns = ['index', 'name', 'type1', 'type2', 'hp', 'attack', \n",
        "                      'defense', 'spatk', 'spdef', 'speed', 'generation',\n",
        "                      'legendary']"
      ],
      "execution_count": 0,
      "outputs": []
    },
    {
      "metadata": {
        "id": "5rMH71WKsW1E",
        "colab_type": "text"
      },
      "cell_type": "markdown",
      "source": [
        "#### Deleting Pokemons not in the Pokedex\n",
        "The Pokedex is the standard Pokemon database that contains the officially registered Pokemons throughout the different generations (iterations of the franchise through years of release). The **```combats```** and **```attributes```** datasets contain Pokemons that are not in the Pokedex, and instead are special types that are featured only in promotional content. These special Pokemons also do not exist in the games that we are interested in."
      ]
    },
    {
      "metadata": {
        "id": "8agjihF_yC_Z",
        "colab_type": "code",
        "colab": {}
      },
      "cell_type": "code",
      "source": [
        "name1 = list(attributes['name'])\n",
        "name2 = list(strengths['name'])\n",
        "not_in_pokedex = []\n",
        "for i in range(len(name1)):\n",
        "    if name1[i] not in name2:\n",
        "        not_in_pokedex.append(i)\n",
        "attribute_df = attributes.drop(not_in_pokedex, axis = 0)"
      ],
      "execution_count": 0,
      "outputs": []
    },
    {
      "metadata": {
        "id": "9LqJBShz7Vk3",
        "colab_type": "code",
        "outputId": "f514a24a-d316-401b-cd06-84430415b153",
        "colab": {
          "base_uri": "https://localhost:8080/",
          "height": 102
        }
      },
      "cell_type": "code",
      "source": [
        "for i in range(5):\n",
        "    print('{} is not in the dataset anymore.'.format(attributes['name'][not_in_pokedex[i]]))"
      ],
      "execution_count": 0,
      "outputs": [
        {
          "output_type": "stream",
          "text": [
            "Mega Venusaur is not in the dataset anymore.\n",
            "Mega Charizard X is not in the dataset anymore.\n",
            "Mega Charizard Y is not in the dataset anymore.\n",
            "Mega Blastoise is not in the dataset anymore.\n",
            "Mega Beedrill is not in the dataset anymore.\n"
          ],
          "name": "stdout"
        }
      ]
    },
    {
      "metadata": {
        "id": "BT9jzSfK94eP",
        "colab_type": "text"
      },
      "cell_type": "markdown",
      "source": [
        "#### Normalizing Continuous Features\n",
        "We want to normalize each of the continuous features so that we can get better results with our neural network. "
      ]
    },
    {
      "metadata": {
        "id": "FT-C6MsLqJuf",
        "colab_type": "code",
        "colab": {}
      },
      "cell_type": "code",
      "source": [
        "contin = ['hp', 'attack', 'defense', 'spatk', 'spdef', 'speed']\n",
        "for feat in contin:\n",
        "    min_val = attribute_df[feat].min()\n",
        "    max_val = attribute_df[feat].max()\n",
        "    diff = max_val - min_val\n",
        "    \n",
        "    attribute_df.loc[:, [feat]] = (attribute_df[feat] - min_val)/diff"
      ],
      "execution_count": 0,
      "outputs": []
    },
    {
      "metadata": {
        "id": "TwFzskumDeZm",
        "colab_type": "text"
      },
      "cell_type": "markdown",
      "source": [
        "#### One-hot Encoding of Categorical Features\n",
        "We will use the ```get_dummies``` function in ```pandas``` in order to get a one-hot encoding of the categorical features. We will also remove the names of the Pokemons, make it so that the continuous features come before the categorical features, and set the ```index``` column to be the actual index of the dataframe to avoid redundancy. "
      ]
    },
    {
      "metadata": {
        "id": "slj7LPCrAXmV",
        "colab_type": "code",
        "outputId": "46db8b4c-4553-4ae4-9834-957a8315a300",
        "colab": {
          "base_uri": "https://localhost:8080/",
          "height": 301
        }
      },
      "cell_type": "code",
      "source": [
        "categ = ['type1', 'type2', 'legendary']\n",
        "features = ['index'] + contin + categ\n",
        "attr_df = attribute_df[features]\n",
        "attr_df = pd.get_dummies(attr_df, prefix = categ, columns = categ)\n",
        "attr_df.set_index('index', inplace = True)\n",
        "print('There are now only {} remaining with {} removed.'.format(\n",
        "        attr_df.shape[0], len(not_in_pokedex)))\n",
        "attr_df[:5]"
      ],
      "execution_count": 0,
      "outputs": [
        {
          "output_type": "stream",
          "text": [
            "There are now only 704 remaining with 96 removed.\n"
          ],
          "name": "stdout"
        },
        {
          "output_type": "execute_result",
          "data": {
            "text/html": [
              "<div>\n",
              "<style scoped>\n",
              "    .dataframe tbody tr th:only-of-type {\n",
              "        vertical-align: middle;\n",
              "    }\n",
              "\n",
              "    .dataframe tbody tr th {\n",
              "        vertical-align: top;\n",
              "    }\n",
              "\n",
              "    .dataframe thead th {\n",
              "        text-align: right;\n",
              "    }\n",
              "</style>\n",
              "<table border=\"1\" class=\"dataframe\">\n",
              "  <thead>\n",
              "    <tr style=\"text-align: right;\">\n",
              "      <th></th>\n",
              "      <th>hp</th>\n",
              "      <th>attack</th>\n",
              "      <th>defense</th>\n",
              "      <th>spatk</th>\n",
              "      <th>spdef</th>\n",
              "      <th>speed</th>\n",
              "      <th>type1_Bug</th>\n",
              "      <th>type1_Dark</th>\n",
              "      <th>type1_Dragon</th>\n",
              "      <th>type1_Electric</th>\n",
              "      <th>...</th>\n",
              "      <th>type2_Ground</th>\n",
              "      <th>type2_Ice</th>\n",
              "      <th>type2_Normal</th>\n",
              "      <th>type2_Poison</th>\n",
              "      <th>type2_Psychic</th>\n",
              "      <th>type2_Rock</th>\n",
              "      <th>type2_Steel</th>\n",
              "      <th>type2_Water</th>\n",
              "      <th>legendary_False</th>\n",
              "      <th>legendary_True</th>\n",
              "    </tr>\n",
              "    <tr>\n",
              "      <th>index</th>\n",
              "      <th></th>\n",
              "      <th></th>\n",
              "      <th></th>\n",
              "      <th></th>\n",
              "      <th></th>\n",
              "      <th></th>\n",
              "      <th></th>\n",
              "      <th></th>\n",
              "      <th></th>\n",
              "      <th></th>\n",
              "      <th></th>\n",
              "      <th></th>\n",
              "      <th></th>\n",
              "      <th></th>\n",
              "      <th></th>\n",
              "      <th></th>\n",
              "      <th></th>\n",
              "      <th></th>\n",
              "      <th></th>\n",
              "      <th></th>\n",
              "      <th></th>\n",
              "    </tr>\n",
              "  </thead>\n",
              "  <tbody>\n",
              "    <tr>\n",
              "      <th>1</th>\n",
              "      <td>0.173228</td>\n",
              "      <td>0.27500</td>\n",
              "      <td>0.195556</td>\n",
              "      <td>0.381944</td>\n",
              "      <td>0.214286</td>\n",
              "      <td>0.258065</td>\n",
              "      <td>0</td>\n",
              "      <td>0</td>\n",
              "      <td>0</td>\n",
              "      <td>0</td>\n",
              "      <td>...</td>\n",
              "      <td>0</td>\n",
              "      <td>0</td>\n",
              "      <td>0</td>\n",
              "      <td>1</td>\n",
              "      <td>0</td>\n",
              "      <td>0</td>\n",
              "      <td>0</td>\n",
              "      <td>0</td>\n",
              "      <td>1</td>\n",
              "      <td>0</td>\n",
              "    </tr>\n",
              "    <tr>\n",
              "      <th>2</th>\n",
              "      <td>0.232283</td>\n",
              "      <td>0.35625</td>\n",
              "      <td>0.257778</td>\n",
              "      <td>0.486111</td>\n",
              "      <td>0.285714</td>\n",
              "      <td>0.354839</td>\n",
              "      <td>0</td>\n",
              "      <td>0</td>\n",
              "      <td>0</td>\n",
              "      <td>0</td>\n",
              "      <td>...</td>\n",
              "      <td>0</td>\n",
              "      <td>0</td>\n",
              "      <td>0</td>\n",
              "      <td>1</td>\n",
              "      <td>0</td>\n",
              "      <td>0</td>\n",
              "      <td>0</td>\n",
              "      <td>0</td>\n",
              "      <td>1</td>\n",
              "      <td>0</td>\n",
              "    </tr>\n",
              "    <tr>\n",
              "      <th>3</th>\n",
              "      <td>0.311024</td>\n",
              "      <td>0.48125</td>\n",
              "      <td>0.346667</td>\n",
              "      <td>0.625000</td>\n",
              "      <td>0.380952</td>\n",
              "      <td>0.483871</td>\n",
              "      <td>0</td>\n",
              "      <td>0</td>\n",
              "      <td>0</td>\n",
              "      <td>0</td>\n",
              "      <td>...</td>\n",
              "      <td>0</td>\n",
              "      <td>0</td>\n",
              "      <td>0</td>\n",
              "      <td>1</td>\n",
              "      <td>0</td>\n",
              "      <td>0</td>\n",
              "      <td>0</td>\n",
              "      <td>0</td>\n",
              "      <td>1</td>\n",
              "      <td>0</td>\n",
              "    </tr>\n",
              "    <tr>\n",
              "      <th>5</th>\n",
              "      <td>0.149606</td>\n",
              "      <td>0.29375</td>\n",
              "      <td>0.168889</td>\n",
              "      <td>0.347222</td>\n",
              "      <td>0.142857</td>\n",
              "      <td>0.387097</td>\n",
              "      <td>0</td>\n",
              "      <td>0</td>\n",
              "      <td>0</td>\n",
              "      <td>0</td>\n",
              "      <td>...</td>\n",
              "      <td>0</td>\n",
              "      <td>0</td>\n",
              "      <td>0</td>\n",
              "      <td>0</td>\n",
              "      <td>0</td>\n",
              "      <td>0</td>\n",
              "      <td>0</td>\n",
              "      <td>0</td>\n",
              "      <td>1</td>\n",
              "      <td>0</td>\n",
              "    </tr>\n",
              "    <tr>\n",
              "      <th>6</th>\n",
              "      <td>0.224409</td>\n",
              "      <td>0.36875</td>\n",
              "      <td>0.235556</td>\n",
              "      <td>0.486111</td>\n",
              "      <td>0.214286</td>\n",
              "      <td>0.483871</td>\n",
              "      <td>0</td>\n",
              "      <td>0</td>\n",
              "      <td>0</td>\n",
              "      <td>0</td>\n",
              "      <td>...</td>\n",
              "      <td>0</td>\n",
              "      <td>0</td>\n",
              "      <td>0</td>\n",
              "      <td>0</td>\n",
              "      <td>0</td>\n",
              "      <td>0</td>\n",
              "      <td>0</td>\n",
              "      <td>0</td>\n",
              "      <td>1</td>\n",
              "      <td>0</td>\n",
              "    </tr>\n",
              "  </tbody>\n",
              "</table>\n",
              "<p>5 rows × 44 columns</p>\n",
              "</div>"
            ],
            "text/plain": [
              "             hp   attack   defense     spatk     spdef     speed  type1_Bug  \\\n",
              "index                                                                         \n",
              "1      0.173228  0.27500  0.195556  0.381944  0.214286  0.258065          0   \n",
              "2      0.232283  0.35625  0.257778  0.486111  0.285714  0.354839          0   \n",
              "3      0.311024  0.48125  0.346667  0.625000  0.380952  0.483871          0   \n",
              "5      0.149606  0.29375  0.168889  0.347222  0.142857  0.387097          0   \n",
              "6      0.224409  0.36875  0.235556  0.486111  0.214286  0.483871          0   \n",
              "\n",
              "       type1_Dark  type1_Dragon  type1_Electric       ...        type2_Ground  \\\n",
              "index                                                 ...                       \n",
              "1               0             0               0       ...                   0   \n",
              "2               0             0               0       ...                   0   \n",
              "3               0             0               0       ...                   0   \n",
              "5               0             0               0       ...                   0   \n",
              "6               0             0               0       ...                   0   \n",
              "\n",
              "       type2_Ice  type2_Normal  type2_Poison  type2_Psychic  type2_Rock  \\\n",
              "index                                                                     \n",
              "1              0             0             1              0           0   \n",
              "2              0             0             1              0           0   \n",
              "3              0             0             1              0           0   \n",
              "5              0             0             0              0           0   \n",
              "6              0             0             0              0           0   \n",
              "\n",
              "       type2_Steel  type2_Water  legendary_False  legendary_True  \n",
              "index                                                             \n",
              "1                0            0                1               0  \n",
              "2                0            0                1               0  \n",
              "3                0            0                1               0  \n",
              "5                0            0                1               0  \n",
              "6                0            0                1               0  \n",
              "\n",
              "[5 rows x 44 columns]"
            ]
          },
          "metadata": {
            "tags": []
          },
          "execution_count": 15
        }
      ]
    },
    {
      "metadata": {
        "id": "T0dbvg7KGFx0",
        "colab_type": "code",
        "outputId": "22fd28a4-7d1d-478e-92ef-3371c80b77ad",
        "colab": {
          "base_uri": "https://localhost:8080/",
          "height": 34
        }
      },
      "cell_type": "code",
      "source": [
        "column = attr_df.columns\n",
        "labels = set(column)\n",
        "count = 0\n",
        "for label in labels:\n",
        "    if 'type1_' in label:\n",
        "        count += 1\n",
        "print('There are {} primary types of Pokemons under \"type1\".'.format(count))"
      ],
      "execution_count": 0,
      "outputs": [
        {
          "output_type": "stream",
          "text": [
            "There are 18 primary types of Pokemons under \"type1\".\n"
          ],
          "name": "stdout"
        }
      ]
    },
    {
      "metadata": {
        "id": "P3aBrrfvLy4i",
        "colab_type": "text"
      },
      "cell_type": "markdown",
      "source": [
        "### Aggregating the Attributes and Strengths Datasets\n",
        "From the **```strengths```** dataset, we will get the features that denote how strong each Pokemon is against all the other types and concatenate this to our attributes dataset, **```attr_df```**. "
      ]
    },
    {
      "metadata": {
        "id": "OvsZJgdkyDE_",
        "colab_type": "code",
        "outputId": "b6710594-c3b0-4c5e-de49-185e57f2c2bb",
        "colab": {
          "base_uri": "https://localhost:8080/",
          "height": 51
        }
      },
      "cell_type": "code",
      "source": [
        "column = strengths.columns\n",
        "labels = set(column)\n",
        "str_col = []\n",
        "str_col = [label for label in labels if 'against_' in label]\n",
        "str_col = sorted(str_col)\n",
        "print(\"Does the number of types in the strengths dataset match the attributes?\")\n",
        "print('{}, there are {} types in both.'.format((len(str_col) == count), count))"
      ],
      "execution_count": 0,
      "outputs": [
        {
          "output_type": "stream",
          "text": [
            "Does the number of types in the strengths dataset match the attributes?\n",
            "True, there are 18 types in both.\n"
          ],
          "name": "stdout"
        }
      ]
    },
    {
      "metadata": {
        "id": "Hirsa2IeVj-x",
        "colab_type": "text"
      },
      "cell_type": "markdown",
      "source": [
        "#### Deleting the Extra Pokemons\n",
        "SInce we know that the number of Pokemons in the ```attributes``` dataset became reduced when the special Pokemons were removed, we want this to match and correspond to the ```strengths``` datasets."
      ]
    },
    {
      "metadata": {
        "id": "zrH1uXqUyDKi",
        "colab_type": "code",
        "colab": {}
      },
      "cell_type": "code",
      "source": [
        "names = list(attribute_df['name'])\n",
        "not_in_attributes = []\n",
        "for i in range(len(name2)):\n",
        "    if (name2[i]).lower() not in [name.lower() for name in names]:\n",
        "        not_in_attributes.append(i)\n",
        "        \n",
        "strengths_df = strengths.drop(not_in_attributes, axis = 0)"
      ],
      "execution_count": 0,
      "outputs": []
    },
    {
      "metadata": {
        "id": "ignnr1VXl6HN",
        "colab_type": "text"
      },
      "cell_type": "markdown",
      "source": [
        "#### Concatenating the two datasets\n",
        "Now, we want to get only the columns that we need under the ```against_``` + type of Pokemon. Therefore we get this from the  strengths dataset and concatenate this to **```attr_df```**. "
      ]
    },
    {
      "metadata": {
        "id": "HAZ7epvGyBuP",
        "colab_type": "code",
        "outputId": "27ef3ac3-f33f-4550-93fa-e0e70d1cdf4f",
        "colab": {
          "base_uri": "https://localhost:8080/",
          "height": 34
        }
      },
      "cell_type": "code",
      "source": [
        "str_df = strengths_df[str_col]\n",
        "\n",
        "# Making sure the two datasets have the same number of rows\n",
        "str_df.shape[0] == attr_df.shape[0]"
      ],
      "execution_count": 0,
      "outputs": [
        {
          "output_type": "execute_result",
          "data": {
            "text/plain": [
              "True"
            ]
          },
          "metadata": {
            "tags": []
          },
          "execution_count": 19
        }
      ]
    },
    {
      "metadata": {
        "id": "JvAdQA7javei",
        "colab_type": "code",
        "outputId": "459cf131-e43b-47a8-ddf7-8abd550ae9b8",
        "colab": {
          "base_uri": "https://localhost:8080/",
          "height": 301
        }
      },
      "cell_type": "code",
      "source": [
        "str_df = str_df.set_index(attr_df.index.values)\n",
        "poke_df = pd.concat([attr_df, str_df], axis = 1)\n",
        "print('The concatenated dataset becomes:')\n",
        "poke_df.head(5)"
      ],
      "execution_count": 0,
      "outputs": [
        {
          "output_type": "stream",
          "text": [
            "The concatenated dataset becomes:\n"
          ],
          "name": "stdout"
        },
        {
          "output_type": "execute_result",
          "data": {
            "text/html": [
              "<div>\n",
              "<style scoped>\n",
              "    .dataframe tbody tr th:only-of-type {\n",
              "        vertical-align: middle;\n",
              "    }\n",
              "\n",
              "    .dataframe tbody tr th {\n",
              "        vertical-align: top;\n",
              "    }\n",
              "\n",
              "    .dataframe thead th {\n",
              "        text-align: right;\n",
              "    }\n",
              "</style>\n",
              "<table border=\"1\" class=\"dataframe\">\n",
              "  <thead>\n",
              "    <tr style=\"text-align: right;\">\n",
              "      <th></th>\n",
              "      <th>hp</th>\n",
              "      <th>attack</th>\n",
              "      <th>defense</th>\n",
              "      <th>spatk</th>\n",
              "      <th>spdef</th>\n",
              "      <th>speed</th>\n",
              "      <th>type1_Bug</th>\n",
              "      <th>type1_Dark</th>\n",
              "      <th>type1_Dragon</th>\n",
              "      <th>type1_Electric</th>\n",
              "      <th>...</th>\n",
              "      <th>against_ghost</th>\n",
              "      <th>against_grass</th>\n",
              "      <th>against_ground</th>\n",
              "      <th>against_ice</th>\n",
              "      <th>against_normal</th>\n",
              "      <th>against_poison</th>\n",
              "      <th>against_psychic</th>\n",
              "      <th>against_rock</th>\n",
              "      <th>against_steel</th>\n",
              "      <th>against_water</th>\n",
              "    </tr>\n",
              "    <tr>\n",
              "      <th>index</th>\n",
              "      <th></th>\n",
              "      <th></th>\n",
              "      <th></th>\n",
              "      <th></th>\n",
              "      <th></th>\n",
              "      <th></th>\n",
              "      <th></th>\n",
              "      <th></th>\n",
              "      <th></th>\n",
              "      <th></th>\n",
              "      <th></th>\n",
              "      <th></th>\n",
              "      <th></th>\n",
              "      <th></th>\n",
              "      <th></th>\n",
              "      <th></th>\n",
              "      <th></th>\n",
              "      <th></th>\n",
              "      <th></th>\n",
              "      <th></th>\n",
              "      <th></th>\n",
              "    </tr>\n",
              "  </thead>\n",
              "  <tbody>\n",
              "    <tr>\n",
              "      <th>1</th>\n",
              "      <td>0.173228</td>\n",
              "      <td>0.27500</td>\n",
              "      <td>0.195556</td>\n",
              "      <td>0.381944</td>\n",
              "      <td>0.214286</td>\n",
              "      <td>0.258065</td>\n",
              "      <td>0</td>\n",
              "      <td>0</td>\n",
              "      <td>0</td>\n",
              "      <td>0</td>\n",
              "      <td>...</td>\n",
              "      <td>1.0</td>\n",
              "      <td>0.25</td>\n",
              "      <td>1.0</td>\n",
              "      <td>2.0</td>\n",
              "      <td>1.0</td>\n",
              "      <td>1.0</td>\n",
              "      <td>2.0</td>\n",
              "      <td>1.0</td>\n",
              "      <td>1.0</td>\n",
              "      <td>0.5</td>\n",
              "    </tr>\n",
              "    <tr>\n",
              "      <th>2</th>\n",
              "      <td>0.232283</td>\n",
              "      <td>0.35625</td>\n",
              "      <td>0.257778</td>\n",
              "      <td>0.486111</td>\n",
              "      <td>0.285714</td>\n",
              "      <td>0.354839</td>\n",
              "      <td>0</td>\n",
              "      <td>0</td>\n",
              "      <td>0</td>\n",
              "      <td>0</td>\n",
              "      <td>...</td>\n",
              "      <td>1.0</td>\n",
              "      <td>0.25</td>\n",
              "      <td>1.0</td>\n",
              "      <td>2.0</td>\n",
              "      <td>1.0</td>\n",
              "      <td>1.0</td>\n",
              "      <td>2.0</td>\n",
              "      <td>1.0</td>\n",
              "      <td>1.0</td>\n",
              "      <td>0.5</td>\n",
              "    </tr>\n",
              "    <tr>\n",
              "      <th>3</th>\n",
              "      <td>0.311024</td>\n",
              "      <td>0.48125</td>\n",
              "      <td>0.346667</td>\n",
              "      <td>0.625000</td>\n",
              "      <td>0.380952</td>\n",
              "      <td>0.483871</td>\n",
              "      <td>0</td>\n",
              "      <td>0</td>\n",
              "      <td>0</td>\n",
              "      <td>0</td>\n",
              "      <td>...</td>\n",
              "      <td>1.0</td>\n",
              "      <td>0.25</td>\n",
              "      <td>1.0</td>\n",
              "      <td>2.0</td>\n",
              "      <td>1.0</td>\n",
              "      <td>1.0</td>\n",
              "      <td>2.0</td>\n",
              "      <td>1.0</td>\n",
              "      <td>1.0</td>\n",
              "      <td>0.5</td>\n",
              "    </tr>\n",
              "    <tr>\n",
              "      <th>5</th>\n",
              "      <td>0.149606</td>\n",
              "      <td>0.29375</td>\n",
              "      <td>0.168889</td>\n",
              "      <td>0.347222</td>\n",
              "      <td>0.142857</td>\n",
              "      <td>0.387097</td>\n",
              "      <td>0</td>\n",
              "      <td>0</td>\n",
              "      <td>0</td>\n",
              "      <td>0</td>\n",
              "      <td>...</td>\n",
              "      <td>1.0</td>\n",
              "      <td>0.50</td>\n",
              "      <td>2.0</td>\n",
              "      <td>0.5</td>\n",
              "      <td>1.0</td>\n",
              "      <td>1.0</td>\n",
              "      <td>1.0</td>\n",
              "      <td>2.0</td>\n",
              "      <td>0.5</td>\n",
              "      <td>2.0</td>\n",
              "    </tr>\n",
              "    <tr>\n",
              "      <th>6</th>\n",
              "      <td>0.224409</td>\n",
              "      <td>0.36875</td>\n",
              "      <td>0.235556</td>\n",
              "      <td>0.486111</td>\n",
              "      <td>0.214286</td>\n",
              "      <td>0.483871</td>\n",
              "      <td>0</td>\n",
              "      <td>0</td>\n",
              "      <td>0</td>\n",
              "      <td>0</td>\n",
              "      <td>...</td>\n",
              "      <td>1.0</td>\n",
              "      <td>0.50</td>\n",
              "      <td>2.0</td>\n",
              "      <td>0.5</td>\n",
              "      <td>1.0</td>\n",
              "      <td>1.0</td>\n",
              "      <td>1.0</td>\n",
              "      <td>2.0</td>\n",
              "      <td>0.5</td>\n",
              "      <td>2.0</td>\n",
              "    </tr>\n",
              "  </tbody>\n",
              "</table>\n",
              "<p>5 rows × 62 columns</p>\n",
              "</div>"
            ],
            "text/plain": [
              "             hp   attack   defense     spatk     spdef     speed  type1_Bug  \\\n",
              "index                                                                         \n",
              "1      0.173228  0.27500  0.195556  0.381944  0.214286  0.258065          0   \n",
              "2      0.232283  0.35625  0.257778  0.486111  0.285714  0.354839          0   \n",
              "3      0.311024  0.48125  0.346667  0.625000  0.380952  0.483871          0   \n",
              "5      0.149606  0.29375  0.168889  0.347222  0.142857  0.387097          0   \n",
              "6      0.224409  0.36875  0.235556  0.486111  0.214286  0.483871          0   \n",
              "\n",
              "       type1_Dark  type1_Dragon  type1_Electric      ...        against_ghost  \\\n",
              "index                                                ...                        \n",
              "1               0             0               0      ...                  1.0   \n",
              "2               0             0               0      ...                  1.0   \n",
              "3               0             0               0      ...                  1.0   \n",
              "5               0             0               0      ...                  1.0   \n",
              "6               0             0               0      ...                  1.0   \n",
              "\n",
              "       against_grass  against_ground  against_ice  against_normal  \\\n",
              "index                                                               \n",
              "1               0.25             1.0          2.0             1.0   \n",
              "2               0.25             1.0          2.0             1.0   \n",
              "3               0.25             1.0          2.0             1.0   \n",
              "5               0.50             2.0          0.5             1.0   \n",
              "6               0.50             2.0          0.5             1.0   \n",
              "\n",
              "       against_poison  against_psychic  against_rock  against_steel  \\\n",
              "index                                                                 \n",
              "1                 1.0              2.0           1.0            1.0   \n",
              "2                 1.0              2.0           1.0            1.0   \n",
              "3                 1.0              2.0           1.0            1.0   \n",
              "5                 1.0              1.0           2.0            0.5   \n",
              "6                 1.0              1.0           2.0            0.5   \n",
              "\n",
              "       against_water  \n",
              "index                 \n",
              "1                0.5  \n",
              "2                0.5  \n",
              "3                0.5  \n",
              "5                2.0  \n",
              "6                2.0  \n",
              "\n",
              "[5 rows x 62 columns]"
            ]
          },
          "metadata": {
            "tags": []
          },
          "execution_count": 20
        }
      ]
    },
    {
      "metadata": {
        "id": "Kp43rfLOSSId",
        "colab_type": "code",
        "outputId": "6077b6c8-e2b9-48b1-a657-662b2ed537da",
        "colab": {
          "base_uri": "https://localhost:8080/",
          "height": 54
        }
      },
      "cell_type": "code",
      "source": [
        "# Update categorical data list:\n",
        "categ = categ + ['against']\n",
        "print('The categorical headings now include', categ)"
      ],
      "execution_count": 0,
      "outputs": [
        {
          "output_type": "stream",
          "text": [
            "The categorical headings now include ['type1', 'type2', 'legendary', 'against']\n"
          ],
          "name": "stdout"
        }
      ]
    },
    {
      "metadata": {
        "id": "OYFO7vHMzrCk",
        "colab_type": "text"
      },
      "cell_type": "markdown",
      "source": [
        "### Delete the Combat History Matches with Pokemons not in Pokedex\n",
        "\n",
        "Since we got rid of some Pokemons that are not in the Pokedex, we have to make it consistent across all datasets and delete these Pokemons from the **```combat_history```** dataset"
      ]
    },
    {
      "metadata": {
        "id": "yCSXNkfC0XjE",
        "colab_type": "code",
        "outputId": "19d7e6ea-6e3a-4bfd-c475-129b3f531728",
        "colab": {
          "base_uri": "https://localhost:8080/",
          "height": 34
        }
      },
      "cell_type": "code",
      "source": [
        "# Use not_in_pokedex list from before to find the pokemons from\n",
        "# the combat_history dataset and get rid of them\n",
        "# Actual index of the pokemon is + 1\n",
        "not_in_poke = [poke +1 for poke in not_in_pokedex]\n",
        "comb_indices = []\n",
        "\n",
        "poke1 = list(combat_history['First_pokemon'])\n",
        "for i, pok1 in enumerate(poke1):\n",
        "    if pok1 in not_in_poke:\n",
        "        comb_indices.append(i)\n",
        "        \n",
        "poke2 = list(combat_history['Second_pokemon'])\n",
        "for j, pok2 in enumerate(poke2):\n",
        "    if pok2 in not_in_poke:\n",
        "        comb_indices.append(j)\n",
        "combat_df = combat_history.drop(comb_indices, axis = 0)\n",
        "total = combat_df.shape[0]\n",
        "combat_df = combat_df.set_index(pd.Series(range(total)))\n",
        "print('The new shape of combat_history is', combat_df.shape)"
      ],
      "execution_count": 0,
      "outputs": [
        {
          "output_type": "stream",
          "text": [
            "The new shape of combat_history is (38839, 3)\n"
          ],
          "name": "stdout"
        }
      ]
    },
    {
      "metadata": {
        "id": "BuhzLfNQSH6k",
        "colab_type": "text"
      },
      "cell_type": "markdown",
      "source": [
        "## Splitting Dataset into Training, Validation and Testing\n",
        "\n",
        "We want to split our combat history dataset into the training and validation and decide on the split that we want our dataset to have. Since we have 38,839 matches in our **```combat_history```** dataset, we will splt our data set into ```80-10-10```, which is a recognized training split for moderately sized datasets."
      ]
    },
    {
      "metadata": {
        "id": "Tae3CzoubHLV",
        "colab_type": "code",
        "colab": {}
      },
      "cell_type": "code",
      "source": [
        "import random\n",
        "from torch.utils import data\n",
        "\n",
        "def split_data(pok_dataf, comb_dataf, batch_size = 1):\n",
        "    '''\n",
        "    Arguments:\n",
        "        pok_dataf = attributes+strengths Pandas dataframe\n",
        "        comb_dataf = combat_history Pandas dataframe\n",
        "        batch_size = optional, default is 1\n",
        "    '''   \n",
        "    # Convert the pandas dataframe to a numpy array\n",
        "    np_data = comb_dataf.values.astype(np.int64)\n",
        "\n",
        "    # Get dataset indices\n",
        "    data_ind = np.arange(np_data.shape[0])\n",
        "    \n",
        "    # Set 90-10 train-val/test split\n",
        "    test_split = int(len(data_ind) * 0.90)\n",
        "    \n",
        "    # No shuffle for test set, consistently set to be the last 10% of the dataset\n",
        "    train_val_ind, test_index = data_ind[:test_split], data_ind[test_split:]\n",
        "    \n",
        "    np.random.seed(10000) # set the numpy seed for consistent split\n",
        "    np.random.shuffle(train_val_ind)\n",
        "    \n",
        "    # Set 80-10 train-val split\n",
        "    split = int(len(data_ind) * 0.2)\n",
        "    train_index, val_index = train_val_ind[:split], train_val_ind[split:]  \n",
        "\n",
        "    # Get data and label using get_data function\n",
        "    tra_pok1, tra_pok2, tra_pok2, tra_label = get_data(train_index, \n",
        "                                                       comb_dataf, \n",
        "                                                       pok_dataf)\n",
        "    train = data.TensorDataset(tra_pok1, tra_pok2, tra_pok2, tra_label)\n",
        "    train_loader = data.DataLoader(train, batch_size=batch_size, \n",
        "                                   shuffle = False)    \n",
        "\n",
        "    # Get data and label using get_data function\n",
        "    val_pok1, val_pok2, val_pok2, val_label = get_data(val_index, \n",
        "                                                       comb_dataf, \n",
        "                                                       pok_dataf)\n",
        "    val = data.TensorDataset(val_pok1, val_pok2, val_pok2, val_label)\n",
        "    val_loader = data.DataLoader(val, batch_size=batch_size, \n",
        "                                 shuffle = True)\n",
        "    \n",
        "    # Get data and label using get_data function\n",
        "    test_pok1, test_pok2, test_pok2, test_label = get_data(test_index, \n",
        "                                                           comb_dataf, \n",
        "                                                           pok_dataf)\n",
        "    test = data.TensorDataset(test_pok1, test_pok2, test_pok2, test_label)\n",
        "    test_loader = data.DataLoader(test, batch_size=batch_size, \n",
        "                                  shuffle = False)\n",
        "\n",
        "    return train_loader, val_loader, test_loader\n",
        "\n",
        "\n",
        "def get_data(data_ind, comb_dataf, pok_dataf):\n",
        "    \n",
        "    # Split the Pokemon indices into different lists for the \n",
        "    # First Pokemon, Second Pokemon and the Winning Pokemon\n",
        "    pok1_ind = list(comb_dataf.loc[data_ind, 'First_pokemon'].values)\n",
        "    pok2_ind = list(comb_dataf.loc[data_ind, 'Second_pokemon'].values)\n",
        "    pokwin_ind = list(comb_dataf.loc[data_ind, 'Winner'].values)\n",
        "    \n",
        "    # Get the attributes + strengths of the First Pokemon, Second Pokemon \n",
        "    # and the Winning Pokemon and convert to a torch tensor\n",
        "    pok1 = torch.from_numpy(pok_dataf.loc[pok1_ind, :].values)\n",
        "    pok2 = torch.from_numpy(pok_dataf.loc[pok2_ind, :].values)\n",
        "    pokwin = torch.from_numpy(pok_dataf.loc[pokwin_ind, :].values)  \n",
        "    \n",
        "    # If the Second Pokemon wins, set label to 1\n",
        "    labels = []\n",
        "    for i, poke in enumerate(pokwin_ind):\n",
        "        # If the First Pokemon wins, set label to 0\n",
        "        if poke == pok1_ind[i]:\n",
        "            labels.append(0)\n",
        "        elif poke == pok2_ind[i]:\n",
        "            labels.append(1)\n",
        "\n",
        "    label = torch.tensor(labels)\n",
        "    \n",
        "    return pok1.float(), pok2.float(), pokwin.float(), label.float()\n",
        "    "
      ],
      "execution_count": 0,
      "outputs": []
    },
    {
      "metadata": {
        "id": "6sPY08HmtPHJ",
        "colab_type": "code",
        "colab": {}
      },
      "cell_type": "code",
      "source": [
        "train_loader, val_loader, test_loader = split_data(poke_df, combat_df, 32)"
      ],
      "execution_count": 0,
      "outputs": []
    },
    {
      "metadata": {
        "id": "2QlUj8FtHDIf",
        "colab_type": "code",
        "outputId": "dfbd7a4d-9222-4c39-f450-cbd17db60b5c",
        "colab": {
          "base_uri": "https://localhost:8080/",
          "height": 85
        }
      },
      "cell_type": "code",
      "source": [
        "inp1, inp2, win, label = next(iter(train_loader))\n",
        "print(inp1.shape)   # First Pokemon with 62 attributes\n",
        "print(inp2.shape)   # Second Pokemon with 62 attributes\n",
        "print(win.shape)    # Winning Pokemon with 62 attributes exactly the \n",
        "                    # same attributes as either first or second\n",
        "print(label.shape)  # 0 or 1 for first or second pokemon winner"
      ],
      "execution_count": 0,
      "outputs": [
        {
          "output_type": "stream",
          "text": [
            "torch.Size([32, 62])\n",
            "torch.Size([32, 62])\n",
            "torch.Size([32, 62])\n",
            "torch.Size([32])\n"
          ],
          "name": "stdout"
        }
      ]
    },
    {
      "metadata": {
        "id": "QtgLqFDYB9y0",
        "colab_type": "text"
      },
      "cell_type": "markdown",
      "source": [
        "\n",
        "\n",
        "---\n",
        "\n",
        "\n",
        "# MODEL SETUP\n",
        "## Double Siamese Network Architecture\n",
        "### 1. Siamese Network Autoencoder\n",
        "In our forward function, we can see that the Siamese Network takes in two inputs and shares these weights across the two inputs. Our starter Siamese Network includes a 'Vanilla Autoencoder' containing a fully connected layer from the 62 columns that all pokemons have to a bottleneck layer of 32 units, after which a ReLU activation is called. Then, a hidden layer from 32 to 62 units is initiated defore a Sigmoid activation to get the values within the range of (0, 1).\n",
        "\n",
        "Lastly, the average value of the two reconstructions are taken and will be minimized using Mean Squared Loss in our training function with the winning Pokemon's features as the target function. The output of this Siamese Network will therefore be a reconstruction of the winning Pokemon's features."
      ]
    },
    {
      "metadata": {
        "id": "ZZLyg7vr703v",
        "colab_type": "code",
        "colab": {}
      },
      "cell_type": "code",
      "source": [
        "from torch import nn\n",
        "\n",
        "class SiameseAutoencoder(nn.Module):\n",
        "    def __init__(self):\n",
        "        super(SiameseAutoencoder, self).__init__()\n",
        "        self.name = \"SiameseAutoencoder\"\n",
        "        self.encoder = nn.Sequential(\n",
        "            nn.Linear(62, 32),\n",
        "            nn.ReLU()            \n",
        "        )\n",
        "        self.decoder = nn.Sequential(\n",
        "            nn.Linear(32, 62),\n",
        "            nn.Sigmoid() # get to the range (0, 1)\n",
        "        )\n",
        "\n",
        "    def forward(self, x1, x2):\n",
        "        x1 = x1.view(x1.shape[0], -1)\n",
        "        x1 = self.encoder(x1)\n",
        "#         x1 = self.decoder(x1)\n",
        "        x2 = x2.view(x2.shape[0], -1)\n",
        "        x2 = self.encoder(x2)\n",
        "        \n",
        "        res = torch.abs(x1-x2)\n",
        "        res = self.decoder(res)\n",
        "        \n",
        "        #res = (x1+x2)/2\n",
        "        \n",
        "        return res"
      ],
      "execution_count": 0,
      "outputs": []
    },
    {
      "metadata": {
        "id": "eMBYs_4RNdQ9",
        "colab_type": "code",
        "outputId": "33548f10-f8b4-45e6-d7a6-5e4d74059bf7",
        "colab": {
          "base_uri": "https://localhost:8080/",
          "height": 34
        }
      },
      "cell_type": "code",
      "source": [
        "model1 = SiameseAutoencoder()\n",
        "out1 = model1(inp1, inp2)\n",
        "out1.shape"
      ],
      "execution_count": 0,
      "outputs": [
        {
          "output_type": "execute_result",
          "data": {
            "text/plain": [
              "torch.Size([32, 62])"
            ]
          },
          "metadata": {
            "tags": []
          },
          "execution_count": 27
        }
      ]
    },
    {
      "metadata": {
        "id": "eH6c5x4ig0p3",
        "colab_type": "text"
      },
      "cell_type": "markdown",
      "source": [
        "### 2. Siamese Network Classifier\n",
        "The output of the autoencoder will then be fed to another Siamese Network to classify how similar the reconstruction is to the actual winner's features. The reason why we split the model into two is because Siamese Networks often measures how similar the two inputs are. Since the two inputs that we have are opposing Pokemons, our goal is not to measure how different these inputs are, but to get the winning Pokemon, and we accomplish this by using a classifier. We also have two different loss functions to optimize our results. The classifier will be passed on to a Binary Cross Entropy loss function to obtain the wanted result."
      ]
    },
    {
      "metadata": {
        "id": "TMk5euo3g1uD",
        "colab_type": "code",
        "colab": {}
      },
      "cell_type": "code",
      "source": [
        "class SiameseClassifier(nn.Module):\n",
        "    def __init__(self):\n",
        "        super(SiameseClassifier, self).__init__()\n",
        "        self.name = \"SiameseClassifier\"\n",
        "        self.linear1 = nn.Sequential(\n",
        "            nn.Linear(62, 32),\n",
        "            nn.Sigmoid()            \n",
        "        )\n",
        "        self.linear2 = nn.Sequential(\n",
        "            nn.Linear(32, 1),\n",
        "            nn.Sigmoid()\n",
        "        )\n",
        "\n",
        "    def forward(self, x1, x2):\n",
        "        x1 = x1.view(x1.shape[0], -1)\n",
        "        x1 = self.linear1(x1)\n",
        "        x2 = x2.view(x2.shape[0], -1)\n",
        "        x2 = self.linear1(x2)\n",
        "        \n",
        "        res = torch.abs(x2-x1)\n",
        "        #res = res.view(res.shape[0], -1)\n",
        "        res1 = self.linear2(res)\n",
        "        res1 = res1.squeeze(1) # Flatten to [batch_size]\n",
        "        return res1"
      ],
      "execution_count": 0,
      "outputs": []
    },
    {
      "metadata": {
        "id": "cW3akaXhV4MN",
        "colab_type": "code",
        "outputId": "264451b2-c88b-4460-f1fe-a05049425b88",
        "colab": {
          "base_uri": "https://localhost:8080/",
          "height": 34
        }
      },
      "cell_type": "code",
      "source": [
        "model2 = SiameseClassifier()\n",
        "output2 = model2(out1, win)\n",
        "output2.shape"
      ],
      "execution_count": 0,
      "outputs": [
        {
          "output_type": "execute_result",
          "data": {
            "text/plain": [
              "torch.Size([32])"
            ]
          },
          "metadata": {
            "tags": []
          },
          "execution_count": 29
        }
      ]
    },
    {
      "metadata": {
        "id": "X2uSYmG2KuA7",
        "colab_type": "text"
      },
      "cell_type": "markdown",
      "source": [
        "## Training the Siamese Network"
      ]
    },
    {
      "metadata": {
        "id": "TE5q1sOeAYCO",
        "colab_type": "code",
        "colab": {}
      },
      "cell_type": "code",
      "source": [
        "import time\n",
        "import torch.optim as optim\n",
        "\n",
        "def train(model1, model2, poke_dataf, comb_dataf, num_epochs=20, batch_size=32, lr=1e-4):\n",
        "    train_loader, val_loader, test_loader = split_data(poke_dataf, \n",
        "                                            comb_dataf, batch_size)\n",
        "    criterion1 = nn.MSELoss()\n",
        "    criterion2 = nn.BCEWithLogitsLoss()\n",
        "    optimizer1 = torch.optim.Adam(model1.parameters(), lr=lr)\n",
        "    optimizer2 = torch.optim.Adam(model2.parameters(), lr=lr)\n",
        "    \n",
        "    train_loss, val_loss = [], []\n",
        "    train_acc, val_acc = [], []\n",
        "    epochs = []\n",
        "    \n",
        "    start_time = time.time()\n",
        "    for epoch in range(num_epochs):\n",
        "        \n",
        "        total_train_loss = 0.0\n",
        "        total_corr = 0\n",
        "        total_epoch = 0\n",
        "        \n",
        "        for poke1, poke2, win, label in train_loader:\n",
        "            optimizer1.zero_grad()\n",
        "            optimizer2.zero_grad()\n",
        "            recon = model1(poke1, poke2)\n",
        "            loss1 = criterion1(recon, win)\n",
        "            total_train_loss += loss1.item()\n",
        "            loss1.backward(retain_graph=True)\n",
        "            \n",
        "            output = model2(recon, win)\n",
        "            loss2 = criterion2(output, label)\n",
        "            total_train_loss += loss2.item()\n",
        "            \n",
        "            loss = (loss1+loss2)\n",
        "            loss.backward()\n",
        "            optimizer1.step()\n",
        "            optimizer2.step()\n",
        "            \n",
        "            corr = (output > 0.0).squeeze().long() == label.long()\n",
        "            total_corr += int(corr.sum().item())\n",
        "            total_epoch += len(label)\n",
        "\n",
        "        tr_acc = float(total_corr) / total_epoch\n",
        "        tr_loss = float(total_train_loss) / total_epoch           \n",
        "        train_acc.append(tr_acc)\n",
        "        train_loss.append(tr_loss)\n",
        "        \n",
        "        va_acc, va_loss = evaluate(model1, model2, val_loader, criterion1, criterion2)\n",
        "        val_acc.append(va_acc)\n",
        "        val_loss.append(va_loss)\n",
        "        epochs.append(epoch+1)\n",
        "        \n",
        "        print('Epoch {}: Train Loss:{:.4f}, Val Loss:{:.4f}'.format(\n",
        "                                            epoch+1, \n",
        "                                            float(train_loss[-1]),\n",
        "                                            float(val_loss[-1])))\n",
        "        print('          Train Accuracy:{:.4f}, Val Accuracy:{:.4f}'.format(\n",
        "                                            float(train_acc[-1]),\n",
        "                                            float(val_acc[-1])))\n",
        "            \n",
        "        \n",
        "    print('Finished Training')\n",
        "    end_time = time.time()\n",
        "    elapsed_time = end_time - start_time\n",
        "    print(\"Total time elapsed: {:.2f} seconds\".format(elapsed_time))\n",
        "    \n",
        "    plot(train_loss, val_loss, train_acc, val_acc, epochs)\n",
        "        \n",
        "def evaluate(model1, model2, loader, criterion1, criterion2):\n",
        "    \"\"\" Evaluate the network on the validation set.\n",
        "\n",
        "     Args:\n",
        "         model: PyTorch neural network object\n",
        "         loader: PyTorch data loader for the validation set\n",
        "         criterion: The loss function\n",
        "     Returns:\n",
        "         err: A scalar for the avg classification error over the validation set\n",
        "         loss: A scalar for the average loss function over the validation set\n",
        "     \"\"\"\n",
        "    total_loss = 0.0\n",
        "    total_corr = 0\n",
        "    total_epoch = 0\n",
        "\n",
        "    for poke1, poke2, win, label in loader:\n",
        "        recon = model1(poke1, poke2)\n",
        "        loss1 = criterion1(recon, win)\n",
        "        total_loss += loss1.item()\n",
        "\n",
        "        output = model2(recon, win)\n",
        "        loss2 = criterion2(output, label)\n",
        "        total_loss += loss2.item()\n",
        "        \n",
        "        corr = (output > 0.0).squeeze().long() == label.long()\n",
        "        total_corr += int(corr.sum().item())\n",
        "        total_epoch += len(label)\n",
        "\n",
        "    acc = float(total_corr) / total_epoch\n",
        "    loss = float(total_loss) / total_epoch\n",
        "\n",
        "    return acc, loss\n",
        "\n",
        "def plot(train_loss, val_loss, train_acc, val_acc, num_epochs):\n",
        "    plt.title(\"Train vs Validation Loss\")\n",
        "    plt.plot(num_epochs, train_loss, label=\"Train\")\n",
        "    plt.plot(num_epochs, val_loss, label=\"Validation\")\n",
        "    plt.xlabel(\"Epoch\")\n",
        "    plt.ylabel(\"Loss\")\n",
        "    plt.legend(loc='best')\n",
        "    plt.show()\n",
        "\n",
        "    plt.title(\"Train vs Validation Accuracy\")\n",
        "    plt.plot(num_epochs, train_acc, label=\"Train\")\n",
        "    plt.plot(num_epochs, val_acc, label=\"Validation\")\n",
        "    plt.xlabel(\"Epoch\")\n",
        "    plt.ylabel(\"Accuracy\")\n",
        "    plt.legend(loc='best')\n",
        "    plt.show()"
      ],
      "execution_count": 0,
      "outputs": []
    },
    {
      "metadata": {
        "id": "wlr4IxWy1WVH",
        "colab_type": "code",
        "colab": {}
      },
      "cell_type": "code",
      "source": [
        "import time\n",
        "import torch.optim as optim\n",
        "    \n",
        "def trainSN(model, poke_dataf, comb_dataf, num_epochs=20, batch_size=32, lr=1e-4):\n",
        "    train_loader, val_loader, test_loader = split_data(poke_dataf, \n",
        "                                            comb_dataf, batch_size)\n",
        "    criterion = nn.BCELoss()\n",
        "    optimizer = torch.optim.Adam(model.parameters(), lr=lr)\n",
        "    \n",
        "    train_loss, val_loss = [], []\n",
        "    train_acc, val_acc = [], []\n",
        "    epochs = []\n",
        "    \n",
        "    start_time = time.time()\n",
        "    for epoch in range(num_epochs):\n",
        "        \n",
        "        total_train_loss = 0.0\n",
        "        total_corr = 0\n",
        "        total_epoch = 0\n",
        "        \n",
        "        for poke1, poke2, win, label in train_loader:\n",
        "            optimizer.zero_grad()\n",
        "            output = model(poke1, poke2)\n",
        "            loss = criterion(output, label)\n",
        "            total_train_loss += loss.item()\n",
        "            loss.backward()\n",
        "            \n",
        "#             output = model2(recon, win)\n",
        "#             loss2 = criterion2(output, label)\n",
        "#             total_train_loss += loss2.item()\n",
        "            \n",
        "#             loss = (loss1+loss2)\n",
        "#              loss.backward()\n",
        "#             optimizer1.step()\n",
        "            optimizer.step()\n",
        "            \n",
        "            corr = (output > 0.0).squeeze().long() == label.long()\n",
        "            total_corr += int(corr.sum().item())\n",
        "            total_epoch += len(label)\n",
        "\n",
        "        tr_acc = float(total_corr) / total_epoch\n",
        "        tr_loss = float(total_train_loss) / total_epoch           \n",
        "        train_acc.append(tr_acc)\n",
        "        train_loss.append(tr_loss)\n",
        "        \n",
        "        va_acc, va_loss = evaluate1(model, val_loader, criterion)\n",
        "        val_acc.append(va_acc)\n",
        "        val_loss.append(va_loss)\n",
        "        epochs.append(epoch+1)\n",
        "        \n",
        "        print('Epoch {}: Train Loss:{:.4f}, Val Loss:{:.4f}'.format(\n",
        "                                            epoch+1, \n",
        "                                            float(train_loss[-1]),\n",
        "                                            float(val_loss[-1])))\n",
        "        print('          Train Accuracy:{:.4f}, Val Accuracy:{:.4f}'.format(\n",
        "                                            float(train_acc[-1]),\n",
        "                                            float(val_acc[-1])))\n",
        "            \n",
        "        \n",
        "    print('Finished Training')\n",
        "    end_time = time.time()\n",
        "    elapsed_time = end_time - start_time\n",
        "    print(\"Total time elapsed: {:.2f} seconds\".format(elapsed_time))\n",
        "    \n",
        "    plot(train_loss, val_loss, train_acc, val_acc, epochs)\n",
        "    \n",
        "def evaluate1(model, loader, criterion):\n",
        "    \"\"\" Evaluate the network on the validation set.\n",
        "\n",
        "     Args:\n",
        "         model: PyTorch neural network object\n",
        "         loader: PyTorch data loader for the validation set\n",
        "         criterion: The loss function\n",
        "     Returns:\n",
        "         err: A scalar for the avg classification error over the validation set\n",
        "         loss: A scalar for the average loss function over the validation set\n",
        "     \"\"\"\n",
        "    total_loss = 0.0\n",
        "    total_corr = 0\n",
        "    total_epoch = 0\n",
        "\n",
        "    for poke1, poke2, win, label in loader:\n",
        "        output = model(poke1, poke2)\n",
        "        loss = criterion(output, label)\n",
        "        total_loss += loss.item()\n",
        "\n",
        "#         output = model2(recon, win)\n",
        "#         loss2 = criterion2(output, label)\n",
        "#         total_loss += loss2.item()\n",
        "        \n",
        "        corr = (output > 0.0).squeeze().long() == label.long()\n",
        "        total_corr += int(corr.sum().item())\n",
        "        total_epoch += len(label)\n",
        "\n",
        "    acc = float(total_corr) / total_epoch\n",
        "    loss = float(total_loss) / total_epoch\n",
        "\n",
        "    return acc, loss\n",
        "\n",
        "def plot(train_loss, val_loss, train_acc, val_acc, num_epochs):\n",
        "    plt.title(\"Train vs Validation Loss\")\n",
        "    plt.plot(num_epochs, train_loss, label=\"Train\")\n",
        "    plt.plot(num_epochs, val_loss, label=\"Validation\")\n",
        "    plt.xlabel(\"Epoch\")\n",
        "    plt.ylabel(\"Loss\")\n",
        "    plt.legend(loc='best')\n",
        "    plt.show()\n",
        "\n",
        "    plt.title(\"Train vs Validation Accuracy\")\n",
        "    plt.plot(num_epochs, train_acc, label=\"Train\")\n",
        "    plt.plot(num_epochs, val_acc, label=\"Validation\")\n",
        "    plt.xlabel(\"Epoch\")\n",
        "    plt.ylabel(\"Accuracy\")\n",
        "    plt.legend(loc='best')\n",
        "    plt.show()      \n"
      ],
      "execution_count": 0,
      "outputs": []
    },
    {
      "metadata": {
        "id": "BWV0gu3FilvA",
        "colab_type": "code",
        "outputId": "460e410e-1a29-4974-e080-58386cf534b4",
        "colab": {
          "base_uri": "https://localhost:8080/",
          "height": 4169
        }
      },
      "cell_type": "code",
      "source": [
        "sub = combat_df[:10000]\n",
        "model = SiameseClassifier()\n",
        "trainSN(model, poke_df, sub, num_epochs=100, batch_size=64, lr=1e-4)"
      ],
      "execution_count": 0,
      "outputs": [
        {
          "output_type": "stream",
          "text": [
            "Epoch 1: Train Loss:0.0111, Val Loss:0.0108\n",
            "          Train Accuracy:0.5325, Val Accuracy:0.5369\n",
            "Epoch 2: Train Loss:0.0110, Val Loss:0.0108\n",
            "          Train Accuracy:0.5325, Val Accuracy:0.5369\n",
            "Epoch 3: Train Loss:0.0109, Val Loss:0.0107\n",
            "          Train Accuracy:0.5325, Val Accuracy:0.5369\n",
            "Epoch 4: Train Loss:0.0109, Val Loss:0.0107\n",
            "          Train Accuracy:0.5325, Val Accuracy:0.5369\n",
            "Epoch 5: Train Loss:0.0108, Val Loss:0.0106\n",
            "          Train Accuracy:0.5325, Val Accuracy:0.5369\n",
            "Epoch 6: Train Loss:0.0108, Val Loss:0.0106\n",
            "          Train Accuracy:0.5325, Val Accuracy:0.5369\n",
            "Epoch 7: Train Loss:0.0107, Val Loss:0.0105\n",
            "          Train Accuracy:0.5325, Val Accuracy:0.5369\n",
            "Epoch 8: Train Loss:0.0107, Val Loss:0.0105\n",
            "          Train Accuracy:0.5325, Val Accuracy:0.5369\n",
            "Epoch 9: Train Loss:0.0106, Val Loss:0.0104\n",
            "          Train Accuracy:0.5325, Val Accuracy:0.5369\n",
            "Epoch 10: Train Loss:0.0106, Val Loss:0.0104\n",
            "          Train Accuracy:0.5325, Val Accuracy:0.5369\n",
            "Epoch 11: Train Loss:0.0105, Val Loss:0.0103\n",
            "          Train Accuracy:0.5325, Val Accuracy:0.5369\n",
            "Epoch 12: Train Loss:0.0105, Val Loss:0.0103\n",
            "          Train Accuracy:0.5325, Val Accuracy:0.5369\n",
            "Epoch 13: Train Loss:0.0104, Val Loss:0.0102\n",
            "          Train Accuracy:0.5325, Val Accuracy:0.5369\n",
            "Epoch 14: Train Loss:0.0104, Val Loss:0.0101\n",
            "          Train Accuracy:0.5325, Val Accuracy:0.5369\n",
            "Epoch 15: Train Loss:0.0103, Val Loss:0.0101\n",
            "          Train Accuracy:0.5325, Val Accuracy:0.5369\n",
            "Epoch 16: Train Loss:0.0102, Val Loss:0.0100\n",
            "          Train Accuracy:0.5325, Val Accuracy:0.5369\n",
            "Epoch 17: Train Loss:0.0102, Val Loss:0.0100\n",
            "          Train Accuracy:0.5325, Val Accuracy:0.5369\n",
            "Epoch 18: Train Loss:0.0101, Val Loss:0.0099\n",
            "          Train Accuracy:0.5325, Val Accuracy:0.5369\n",
            "Epoch 19: Train Loss:0.0101, Val Loss:0.0099\n",
            "          Train Accuracy:0.5325, Val Accuracy:0.5369\n",
            "Epoch 20: Train Loss:0.0100, Val Loss:0.0098\n",
            "          Train Accuracy:0.5325, Val Accuracy:0.5369\n",
            "Epoch 21: Train Loss:0.0099, Val Loss:0.0097\n",
            "          Train Accuracy:0.5325, Val Accuracy:0.5369\n",
            "Epoch 22: Train Loss:0.0099, Val Loss:0.0097\n",
            "          Train Accuracy:0.5325, Val Accuracy:0.5369\n",
            "Epoch 23: Train Loss:0.0098, Val Loss:0.0096\n",
            "          Train Accuracy:0.5325, Val Accuracy:0.5369\n",
            "Epoch 24: Train Loss:0.0097, Val Loss:0.0095\n",
            "          Train Accuracy:0.5325, Val Accuracy:0.5369\n",
            "Epoch 25: Train Loss:0.0097, Val Loss:0.0095\n",
            "          Train Accuracy:0.5325, Val Accuracy:0.5369\n",
            "Epoch 26: Train Loss:0.0096, Val Loss:0.0094\n",
            "          Train Accuracy:0.5325, Val Accuracy:0.5369\n",
            "Epoch 27: Train Loss:0.0095, Val Loss:0.0093\n",
            "          Train Accuracy:0.5325, Val Accuracy:0.5369\n",
            "Epoch 28: Train Loss:0.0095, Val Loss:0.0093\n",
            "          Train Accuracy:0.5325, Val Accuracy:0.5369\n",
            "Epoch 29: Train Loss:0.0094, Val Loss:0.0092\n",
            "          Train Accuracy:0.5325, Val Accuracy:0.5369\n",
            "Epoch 30: Train Loss:0.0093, Val Loss:0.0092\n",
            "          Train Accuracy:0.5325, Val Accuracy:0.5369\n",
            "Epoch 31: Train Loss:0.0093, Val Loss:0.0091\n",
            "          Train Accuracy:0.5325, Val Accuracy:0.5369\n",
            "Epoch 32: Train Loss:0.0092, Val Loss:0.0090\n",
            "          Train Accuracy:0.5325, Val Accuracy:0.5369\n",
            "Epoch 33: Train Loss:0.0091, Val Loss:0.0090\n",
            "          Train Accuracy:0.5325, Val Accuracy:0.5369\n",
            "Epoch 34: Train Loss:0.0091, Val Loss:0.0089\n",
            "          Train Accuracy:0.5325, Val Accuracy:0.5369\n",
            "Epoch 35: Train Loss:0.0090, Val Loss:0.0088\n",
            "          Train Accuracy:0.5325, Val Accuracy:0.5369\n",
            "Epoch 36: Train Loss:0.0089, Val Loss:0.0088\n",
            "          Train Accuracy:0.5325, Val Accuracy:0.5369\n",
            "Epoch 37: Train Loss:0.0089, Val Loss:0.0087\n",
            "          Train Accuracy:0.5325, Val Accuracy:0.5369\n",
            "Epoch 38: Train Loss:0.0088, Val Loss:0.0086\n",
            "          Train Accuracy:0.5325, Val Accuracy:0.5369\n",
            "Epoch 39: Train Loss:0.0087, Val Loss:0.0086\n",
            "          Train Accuracy:0.5325, Val Accuracy:0.5369\n",
            "Epoch 40: Train Loss:0.0087, Val Loss:0.0085\n",
            "          Train Accuracy:0.5325, Val Accuracy:0.5369\n",
            "Epoch 41: Train Loss:0.0086, Val Loss:0.0084\n",
            "          Train Accuracy:0.5325, Val Accuracy:0.5369\n",
            "Epoch 42: Train Loss:0.0085, Val Loss:0.0084\n",
            "          Train Accuracy:0.5325, Val Accuracy:0.5369\n",
            "Epoch 43: Train Loss:0.0085, Val Loss:0.0083\n",
            "          Train Accuracy:0.5325, Val Accuracy:0.5369\n",
            "Epoch 44: Train Loss:0.0084, Val Loss:0.0082\n",
            "          Train Accuracy:0.5325, Val Accuracy:0.5369\n",
            "Epoch 45: Train Loss:0.0083, Val Loss:0.0082\n",
            "          Train Accuracy:0.5325, Val Accuracy:0.5369\n",
            "Epoch 46: Train Loss:0.0083, Val Loss:0.0081\n",
            "          Train Accuracy:0.5325, Val Accuracy:0.5369\n",
            "Epoch 47: Train Loss:0.0082, Val Loss:0.0080\n",
            "          Train Accuracy:0.5325, Val Accuracy:0.5369\n",
            "Epoch 48: Train Loss:0.0081, Val Loss:0.0080\n",
            "          Train Accuracy:0.5325, Val Accuracy:0.5369\n",
            "Epoch 49: Train Loss:0.0081, Val Loss:0.0079\n",
            "          Train Accuracy:0.5325, Val Accuracy:0.5369\n",
            "Epoch 50: Train Loss:0.0080, Val Loss:0.0078\n",
            "          Train Accuracy:0.5325, Val Accuracy:0.5369\n",
            "Epoch 51: Train Loss:0.0079, Val Loss:0.0078\n",
            "          Train Accuracy:0.5325, Val Accuracy:0.5369\n",
            "Epoch 52: Train Loss:0.0079, Val Loss:0.0077\n",
            "          Train Accuracy:0.5325, Val Accuracy:0.5369\n",
            "Epoch 53: Train Loss:0.0078, Val Loss:0.0077\n",
            "          Train Accuracy:0.5325, Val Accuracy:0.5369\n",
            "Epoch 54: Train Loss:0.0077, Val Loss:0.0076\n",
            "          Train Accuracy:0.5325, Val Accuracy:0.5369\n",
            "Epoch 55: Train Loss:0.0077, Val Loss:0.0075\n",
            "          Train Accuracy:0.5325, Val Accuracy:0.5369\n",
            "Epoch 56: Train Loss:0.0076, Val Loss:0.0075\n",
            "          Train Accuracy:0.5325, Val Accuracy:0.5369\n",
            "Epoch 57: Train Loss:0.0076, Val Loss:0.0074\n",
            "          Train Accuracy:0.5325, Val Accuracy:0.5369\n",
            "Epoch 58: Train Loss:0.0075, Val Loss:0.0073\n",
            "          Train Accuracy:0.5325, Val Accuracy:0.5369\n",
            "Epoch 59: Train Loss:0.0074, Val Loss:0.0073\n",
            "          Train Accuracy:0.5325, Val Accuracy:0.5369\n",
            "Epoch 60: Train Loss:0.0074, Val Loss:0.0072\n",
            "          Train Accuracy:0.5325, Val Accuracy:0.5369\n",
            "Epoch 61: Train Loss:0.0073, Val Loss:0.0072\n",
            "          Train Accuracy:0.5325, Val Accuracy:0.5369\n",
            "Epoch 62: Train Loss:0.0073, Val Loss:0.0071\n",
            "          Train Accuracy:0.5325, Val Accuracy:0.5369\n",
            "Epoch 63: Train Loss:0.0072, Val Loss:0.0071\n",
            "          Train Accuracy:0.5325, Val Accuracy:0.5369\n",
            "Epoch 64: Train Loss:0.0072, Val Loss:0.0070\n",
            "          Train Accuracy:0.5325, Val Accuracy:0.5369\n",
            "Epoch 65: Train Loss:0.0071, Val Loss:0.0070\n",
            "          Train Accuracy:0.5325, Val Accuracy:0.5369\n",
            "Epoch 66: Train Loss:0.0070, Val Loss:0.0069\n",
            "          Train Accuracy:0.5325, Val Accuracy:0.5369\n",
            "Epoch 67: Train Loss:0.0070, Val Loss:0.0069\n",
            "          Train Accuracy:0.5325, Val Accuracy:0.5369\n",
            "Epoch 68: Train Loss:0.0069, Val Loss:0.0068\n",
            "          Train Accuracy:0.5325, Val Accuracy:0.5369\n",
            "Epoch 69: Train Loss:0.0069, Val Loss:0.0068\n",
            "          Train Accuracy:0.5325, Val Accuracy:0.5369\n",
            "Epoch 70: Train Loss:0.0068, Val Loss:0.0067\n",
            "          Train Accuracy:0.5325, Val Accuracy:0.5369\n",
            "Epoch 71: Train Loss:0.0068, Val Loss:0.0067\n",
            "          Train Accuracy:0.5325, Val Accuracy:0.5369\n",
            "Epoch 72: Train Loss:0.0067, Val Loss:0.0066\n",
            "          Train Accuracy:0.5325, Val Accuracy:0.5369\n",
            "Epoch 73: Train Loss:0.0067, Val Loss:0.0066\n",
            "          Train Accuracy:0.5325, Val Accuracy:0.5369\n",
            "Epoch 74: Train Loss:0.0067, Val Loss:0.0065\n",
            "          Train Accuracy:0.5325, Val Accuracy:0.5369\n",
            "Epoch 75: Train Loss:0.0066, Val Loss:0.0065\n",
            "          Train Accuracy:0.5325, Val Accuracy:0.5369\n",
            "Epoch 76: Train Loss:0.0066, Val Loss:0.0064\n",
            "          Train Accuracy:0.5325, Val Accuracy:0.5369\n",
            "Epoch 77: Train Loss:0.0065, Val Loss:0.0064\n",
            "          Train Accuracy:0.5325, Val Accuracy:0.5369\n",
            "Epoch 78: Train Loss:0.0065, Val Loss:0.0064\n",
            "          Train Accuracy:0.5325, Val Accuracy:0.5369\n",
            "Epoch 79: Train Loss:0.0064, Val Loss:0.0063\n",
            "          Train Accuracy:0.5325, Val Accuracy:0.5369\n",
            "Epoch 80: Train Loss:0.0064, Val Loss:0.0063\n",
            "          Train Accuracy:0.5325, Val Accuracy:0.5369\n",
            "Epoch 81: Train Loss:0.0064, Val Loss:0.0062\n",
            "          Train Accuracy:0.5325, Val Accuracy:0.5369\n",
            "Epoch 82: Train Loss:0.0063, Val Loss:0.0062\n",
            "          Train Accuracy:0.5325, Val Accuracy:0.5369\n",
            "Epoch 83: Train Loss:0.0063, Val Loss:0.0062\n",
            "          Train Accuracy:0.5325, Val Accuracy:0.5369\n",
            "Epoch 84: Train Loss:0.0062, Val Loss:0.0061\n",
            "          Train Accuracy:0.5325, Val Accuracy:0.5369\n",
            "Epoch 85: Train Loss:0.0062, Val Loss:0.0061\n",
            "          Train Accuracy:0.5325, Val Accuracy:0.5369\n",
            "Epoch 86: Train Loss:0.0062, Val Loss:0.0060\n",
            "          Train Accuracy:0.5325, Val Accuracy:0.5369\n",
            "Epoch 87: Train Loss:0.0061, Val Loss:0.0060\n",
            "          Train Accuracy:0.5325, Val Accuracy:0.5369\n",
            "Epoch 88: Train Loss:0.0061, Val Loss:0.0060\n",
            "          Train Accuracy:0.5325, Val Accuracy:0.5369\n",
            "Epoch 89: Train Loss:0.0060, Val Loss:0.0059\n",
            "          Train Accuracy:0.5325, Val Accuracy:0.5369\n",
            "Epoch 90: Train Loss:0.0060, Val Loss:0.0059\n",
            "          Train Accuracy:0.5325, Val Accuracy:0.5369\n",
            "Epoch 91: Train Loss:0.0060, Val Loss:0.0059\n",
            "          Train Accuracy:0.5325, Val Accuracy:0.5369\n",
            "Epoch 92: Train Loss:0.0059, Val Loss:0.0058\n",
            "          Train Accuracy:0.5325, Val Accuracy:0.5369\n",
            "Epoch 93: Train Loss:0.0059, Val Loss:0.0058\n",
            "          Train Accuracy:0.5325, Val Accuracy:0.5369\n",
            "Epoch 94: Train Loss:0.0059, Val Loss:0.0058\n",
            "          Train Accuracy:0.5325, Val Accuracy:0.5369\n",
            "Epoch 95: Train Loss:0.0058, Val Loss:0.0057\n",
            "          Train Accuracy:0.5325, Val Accuracy:0.5369\n",
            "Epoch 96: Train Loss:0.0058, Val Loss:0.0057\n",
            "          Train Accuracy:0.5325, Val Accuracy:0.5369\n",
            "Epoch 97: Train Loss:0.0058, Val Loss:0.0057\n",
            "          Train Accuracy:0.5325, Val Accuracy:0.5369\n",
            "Epoch 98: Train Loss:0.0057, Val Loss:0.0056\n",
            "          Train Accuracy:0.5325, Val Accuracy:0.5369\n",
            "Epoch 99: Train Loss:0.0057, Val Loss:0.0056\n",
            "          Train Accuracy:0.5325, Val Accuracy:0.5369\n",
            "Epoch 100: Train Loss:0.0057, Val Loss:0.0056\n",
            "          Train Accuracy:0.5325, Val Accuracy:0.5369\n",
            "Finished Training\n",
            "Total time elapsed: 16.25 seconds\n"
          ],
          "name": "stdout"
        },
        {
          "output_type": "display_data",
          "data": {
            "image/png": "[encoded data removed]",
            "text/plain": [
              "<Figure size 576x396 with 1 Axes>"
            ]
          },
          "metadata": {
            "tags": []
          }
        },
        {
          "output_type": "display_data",
          "data": {
            "image/png": "[encoded data removed]",
            "text/plain": [
              "<Figure size 576x396 with 1 Axes>"
            ]
          },
          "metadata": {
            "tags": []
          }
        }
      ]
    },
    {
      "metadata": {
        "id": "CW-8APpwtkbu",
        "colab_type": "code",
        "outputId": "e2da62ff-edaa-4826-eb33-07a37a46d830",
        "colab": {
          "base_uri": "https://localhost:8080/",
          "height": 4169
        }
      },
      "cell_type": "code",
      "source": [
        "model1 = SiameseAutoencoder()\n",
        "model2 = SiameseClassifier()\n",
        "train(model1, model2, poke_df, sub, num_epochs=100, batch_size=1, lr=1e-4)"
      ],
      "execution_count": 0,
      "outputs": [
        {
          "output_type": "stream",
          "text": [
            "Epoch 1: Train Loss:1.0081, Val Loss:1.0325\n",
            "          Train Accuracy:0.6667, Val Accuracy:0.6000\n",
            "Epoch 2: Train Loss:1.0047, Val Loss:1.0316\n",
            "          Train Accuracy:0.6667, Val Accuracy:0.6000\n",
            "Epoch 3: Train Loss:1.0025, Val Loss:1.0307\n",
            "          Train Accuracy:0.6667, Val Accuracy:0.6000\n",
            "Epoch 4: Train Loss:1.0003, Val Loss:1.0298\n",
            "          Train Accuracy:0.6667, Val Accuracy:0.6000\n",
            "Epoch 5: Train Loss:0.9981, Val Loss:1.0288\n",
            "          Train Accuracy:0.6667, Val Accuracy:0.6000\n",
            "Epoch 6: Train Loss:0.9960, Val Loss:1.0280\n",
            "          Train Accuracy:0.6667, Val Accuracy:0.6000\n",
            "Epoch 7: Train Loss:0.9939, Val Loss:1.0271\n",
            "          Train Accuracy:0.6667, Val Accuracy:0.6000\n",
            "Epoch 8: Train Loss:0.9920, Val Loss:1.0264\n",
            "          Train Accuracy:0.6667, Val Accuracy:0.6000\n",
            "Epoch 9: Train Loss:0.9901, Val Loss:1.0256\n",
            "          Train Accuracy:0.6667, Val Accuracy:0.6000\n",
            "Epoch 10: Train Loss:0.9882, Val Loss:1.0248\n",
            "          Train Accuracy:0.6667, Val Accuracy:0.6000\n",
            "Epoch 11: Train Loss:0.9863, Val Loss:1.0240\n",
            "          Train Accuracy:0.6667, Val Accuracy:0.6000\n",
            "Epoch 12: Train Loss:0.9846, Val Loss:1.0233\n",
            "          Train Accuracy:0.6667, Val Accuracy:0.6000\n",
            "Epoch 13: Train Loss:0.9828, Val Loss:1.0225\n",
            "          Train Accuracy:0.6667, Val Accuracy:0.6000\n",
            "Epoch 14: Train Loss:0.9811, Val Loss:1.0218\n",
            "          Train Accuracy:0.6667, Val Accuracy:0.6000\n",
            "Epoch 15: Train Loss:0.9794, Val Loss:1.0210\n",
            "          Train Accuracy:0.6667, Val Accuracy:0.6000\n",
            "Epoch 16: Train Loss:0.9776, Val Loss:1.0202\n",
            "          Train Accuracy:0.6667, Val Accuracy:0.6000\n",
            "Epoch 17: Train Loss:0.9759, Val Loss:1.0195\n",
            "          Train Accuracy:0.6667, Val Accuracy:0.6000\n",
            "Epoch 18: Train Loss:0.9741, Val Loss:1.0188\n",
            "          Train Accuracy:0.6667, Val Accuracy:0.6000\n",
            "Epoch 19: Train Loss:0.9724, Val Loss:1.0180\n",
            "          Train Accuracy:0.6667, Val Accuracy:0.6000\n",
            "Epoch 20: Train Loss:0.9706, Val Loss:1.0173\n",
            "          Train Accuracy:0.6667, Val Accuracy:0.6000\n",
            "Epoch 21: Train Loss:0.9688, Val Loss:1.0165\n",
            "          Train Accuracy:0.6667, Val Accuracy:0.6000\n",
            "Epoch 22: Train Loss:0.9671, Val Loss:1.0157\n",
            "          Train Accuracy:0.6667, Val Accuracy:0.6000\n",
            "Epoch 23: Train Loss:0.9653, Val Loss:1.0150\n",
            "          Train Accuracy:0.6667, Val Accuracy:0.6000\n",
            "Epoch 24: Train Loss:0.9637, Val Loss:1.0143\n",
            "          Train Accuracy:0.6667, Val Accuracy:0.6000\n",
            "Epoch 25: Train Loss:0.9619, Val Loss:1.0136\n",
            "          Train Accuracy:0.6667, Val Accuracy:0.6000\n",
            "Epoch 26: Train Loss:0.9603, Val Loss:1.0130\n",
            "          Train Accuracy:0.6667, Val Accuracy:0.6000\n",
            "Epoch 27: Train Loss:0.9586, Val Loss:1.0123\n",
            "          Train Accuracy:0.6667, Val Accuracy:0.6000\n",
            "Epoch 28: Train Loss:0.9569, Val Loss:1.0117\n",
            "          Train Accuracy:0.6667, Val Accuracy:0.6000\n",
            "Epoch 29: Train Loss:0.9552, Val Loss:1.0111\n",
            "          Train Accuracy:0.6667, Val Accuracy:0.6000\n",
            "Epoch 30: Train Loss:0.9535, Val Loss:1.0105\n",
            "          Train Accuracy:0.6667, Val Accuracy:0.6000\n",
            "Epoch 31: Train Loss:0.9517, Val Loss:1.0099\n",
            "          Train Accuracy:0.6667, Val Accuracy:0.6000\n",
            "Epoch 32: Train Loss:0.9501, Val Loss:1.0093\n",
            "          Train Accuracy:0.6667, Val Accuracy:0.6000\n",
            "Epoch 33: Train Loss:0.9484, Val Loss:1.0088\n",
            "          Train Accuracy:0.6667, Val Accuracy:0.6000\n",
            "Epoch 34: Train Loss:0.9465, Val Loss:1.0081\n",
            "          Train Accuracy:0.6667, Val Accuracy:0.6000\n",
            "Epoch 35: Train Loss:0.9448, Val Loss:1.0075\n",
            "          Train Accuracy:0.6667, Val Accuracy:0.6000\n",
            "Epoch 36: Train Loss:0.9429, Val Loss:1.0068\n",
            "          Train Accuracy:0.6667, Val Accuracy:0.6000\n",
            "Epoch 37: Train Loss:0.9410, Val Loss:1.0062\n",
            "          Train Accuracy:0.6667, Val Accuracy:0.6000\n",
            "Epoch 38: Train Loss:0.9392, Val Loss:1.0055\n",
            "          Train Accuracy:0.6667, Val Accuracy:0.6000\n",
            "Epoch 39: Train Loss:0.9372, Val Loss:1.0048\n",
            "          Train Accuracy:0.6667, Val Accuracy:0.6000\n",
            "Epoch 40: Train Loss:0.9353, Val Loss:1.0042\n",
            "          Train Accuracy:0.6667, Val Accuracy:0.6000\n",
            "Epoch 41: Train Loss:0.9334, Val Loss:1.0036\n",
            "          Train Accuracy:0.6667, Val Accuracy:0.6000\n",
            "Epoch 42: Train Loss:0.9316, Val Loss:1.0029\n",
            "          Train Accuracy:0.6667, Val Accuracy:0.6000\n",
            "Epoch 43: Train Loss:0.9297, Val Loss:1.0021\n",
            "          Train Accuracy:0.6667, Val Accuracy:0.6000\n",
            "Epoch 44: Train Loss:0.9279, Val Loss:1.0014\n",
            "          Train Accuracy:0.6667, Val Accuracy:0.6000\n",
            "Epoch 45: Train Loss:0.9261, Val Loss:1.0007\n",
            "          Train Accuracy:0.6667, Val Accuracy:0.6000\n",
            "Epoch 46: Train Loss:0.9242, Val Loss:0.9999\n",
            "          Train Accuracy:0.6667, Val Accuracy:0.6000\n",
            "Epoch 47: Train Loss:0.9224, Val Loss:0.9992\n",
            "          Train Accuracy:0.6667, Val Accuracy:0.6000\n",
            "Epoch 48: Train Loss:0.9205, Val Loss:0.9984\n",
            "          Train Accuracy:0.6667, Val Accuracy:0.6000\n",
            "Epoch 49: Train Loss:0.9186, Val Loss:0.9977\n",
            "          Train Accuracy:0.6667, Val Accuracy:0.6000\n",
            "Epoch 50: Train Loss:0.9167, Val Loss:0.9970\n",
            "          Train Accuracy:0.6667, Val Accuracy:0.6000\n",
            "Epoch 51: Train Loss:0.9149, Val Loss:0.9963\n",
            "          Train Accuracy:0.6667, Val Accuracy:0.6000\n",
            "Epoch 52: Train Loss:0.9129, Val Loss:0.9955\n",
            "          Train Accuracy:0.6667, Val Accuracy:0.6000\n",
            "Epoch 53: Train Loss:0.9109, Val Loss:0.9948\n",
            "          Train Accuracy:0.6667, Val Accuracy:0.6000\n",
            "Epoch 54: Train Loss:0.9089, Val Loss:0.9940\n",
            "          Train Accuracy:0.6667, Val Accuracy:0.6000\n",
            "Epoch 55: Train Loss:0.9069, Val Loss:0.9933\n",
            "          Train Accuracy:0.6667, Val Accuracy:0.6000\n",
            "Epoch 56: Train Loss:0.9049, Val Loss:0.9926\n",
            "          Train Accuracy:0.6667, Val Accuracy:0.6000\n",
            "Epoch 57: Train Loss:0.9031, Val Loss:0.9919\n",
            "          Train Accuracy:0.6667, Val Accuracy:0.6000\n",
            "Epoch 58: Train Loss:0.9011, Val Loss:0.9911\n",
            "          Train Accuracy:0.6667, Val Accuracy:0.6000\n",
            "Epoch 59: Train Loss:0.8991, Val Loss:0.9904\n",
            "          Train Accuracy:0.6667, Val Accuracy:0.6000\n",
            "Epoch 60: Train Loss:0.8972, Val Loss:0.9897\n",
            "          Train Accuracy:0.6667, Val Accuracy:0.6000\n",
            "Epoch 61: Train Loss:0.8953, Val Loss:0.9890\n",
            "          Train Accuracy:0.6667, Val Accuracy:0.6000\n",
            "Epoch 62: Train Loss:0.8933, Val Loss:0.9882\n",
            "          Train Accuracy:0.6667, Val Accuracy:0.6000\n",
            "Epoch 63: Train Loss:0.8914, Val Loss:0.9875\n",
            "          Train Accuracy:0.6667, Val Accuracy:0.6000\n",
            "Epoch 64: Train Loss:0.8895, Val Loss:0.9867\n",
            "          Train Accuracy:0.6667, Val Accuracy:0.6000\n",
            "Epoch 65: Train Loss:0.8875, Val Loss:0.9859\n",
            "          Train Accuracy:0.6667, Val Accuracy:0.6000\n",
            "Epoch 66: Train Loss:0.8855, Val Loss:0.9852\n",
            "          Train Accuracy:0.6667, Val Accuracy:0.6000\n",
            "Epoch 67: Train Loss:0.8835, Val Loss:0.9844\n",
            "          Train Accuracy:0.6667, Val Accuracy:0.6000\n",
            "Epoch 68: Train Loss:0.8815, Val Loss:0.9837\n",
            "          Train Accuracy:0.6667, Val Accuracy:0.6000\n",
            "Epoch 69: Train Loss:0.8795, Val Loss:0.9830\n",
            "          Train Accuracy:0.6667, Val Accuracy:0.6000\n",
            "Epoch 70: Train Loss:0.8775, Val Loss:0.9822\n",
            "          Train Accuracy:0.6667, Val Accuracy:0.6000\n",
            "Epoch 71: Train Loss:0.8753, Val Loss:0.9815\n",
            "          Train Accuracy:0.6667, Val Accuracy:0.6000\n",
            "Epoch 72: Train Loss:0.8733, Val Loss:0.9807\n",
            "          Train Accuracy:0.6667, Val Accuracy:0.6000\n",
            "Epoch 73: Train Loss:0.8713, Val Loss:0.9800\n",
            "          Train Accuracy:0.6667, Val Accuracy:0.6000\n",
            "Epoch 74: Train Loss:0.8693, Val Loss:0.9792\n",
            "          Train Accuracy:0.6667, Val Accuracy:0.6000\n",
            "Epoch 75: Train Loss:0.8672, Val Loss:0.9785\n",
            "          Train Accuracy:0.6667, Val Accuracy:0.6000\n",
            "Epoch 76: Train Loss:0.8651, Val Loss:0.9777\n",
            "          Train Accuracy:0.6667, Val Accuracy:0.6000\n",
            "Epoch 77: Train Loss:0.8629, Val Loss:0.9770\n",
            "          Train Accuracy:0.6667, Val Accuracy:0.6000\n",
            "Epoch 78: Train Loss:0.8606, Val Loss:0.9763\n",
            "          Train Accuracy:0.6667, Val Accuracy:0.6000\n",
            "Epoch 79: Train Loss:0.8582, Val Loss:0.9756\n",
            "          Train Accuracy:0.6667, Val Accuracy:0.6000\n",
            "Epoch 80: Train Loss:0.8560, Val Loss:0.9749\n",
            "          Train Accuracy:0.6667, Val Accuracy:0.6000\n",
            "Epoch 81: Train Loss:0.8537, Val Loss:0.9743\n",
            "          Train Accuracy:0.6667, Val Accuracy:0.6000\n",
            "Epoch 82: Train Loss:0.8515, Val Loss:0.9736\n",
            "          Train Accuracy:0.6667, Val Accuracy:0.6000\n",
            "Epoch 83: Train Loss:0.8493, Val Loss:0.9728\n",
            "          Train Accuracy:0.6667, Val Accuracy:0.6000\n",
            "Epoch 84: Train Loss:0.8472, Val Loss:0.9720\n",
            "          Train Accuracy:0.6667, Val Accuracy:0.6000\n",
            "Epoch 85: Train Loss:0.8450, Val Loss:0.9712\n",
            "          Train Accuracy:0.6667, Val Accuracy:0.6000\n",
            "Epoch 86: Train Loss:0.8428, Val Loss:0.9704\n",
            "          Train Accuracy:0.6667, Val Accuracy:0.6000\n",
            "Epoch 87: Train Loss:0.8406, Val Loss:0.9696\n",
            "          Train Accuracy:0.6667, Val Accuracy:0.6000\n",
            "Epoch 88: Train Loss:0.8384, Val Loss:0.9688\n",
            "          Train Accuracy:0.6667, Val Accuracy:0.6000\n",
            "Epoch 89: Train Loss:0.8362, Val Loss:0.9680\n",
            "          Train Accuracy:0.6667, Val Accuracy:0.6000\n",
            "Epoch 90: Train Loss:0.8341, Val Loss:0.9672\n",
            "          Train Accuracy:0.6667, Val Accuracy:0.6000\n",
            "Epoch 91: Train Loss:0.8319, Val Loss:0.9663\n",
            "          Train Accuracy:0.6667, Val Accuracy:0.6000\n",
            "Epoch 92: Train Loss:0.8297, Val Loss:0.9655\n",
            "          Train Accuracy:0.6667, Val Accuracy:0.6000\n",
            "Epoch 93: Train Loss:0.8276, Val Loss:0.9647\n",
            "          Train Accuracy:0.6667, Val Accuracy:0.6000\n",
            "Epoch 94: Train Loss:0.8253, Val Loss:0.9639\n",
            "          Train Accuracy:0.6667, Val Accuracy:0.6000\n",
            "Epoch 95: Train Loss:0.8231, Val Loss:0.9631\n",
            "          Train Accuracy:0.6667, Val Accuracy:0.6000\n",
            "Epoch 96: Train Loss:0.8208, Val Loss:0.9624\n",
            "          Train Accuracy:0.6667, Val Accuracy:0.6000\n",
            "Epoch 97: Train Loss:0.8184, Val Loss:0.9615\n",
            "          Train Accuracy:0.6667, Val Accuracy:0.6000\n",
            "Epoch 98: Train Loss:0.8162, Val Loss:0.9607\n",
            "          Train Accuracy:0.6667, Val Accuracy:0.6000\n",
            "Epoch 99: Train Loss:0.8138, Val Loss:0.9600\n",
            "          Train Accuracy:0.6667, Val Accuracy:0.6000\n",
            "Epoch 100: Train Loss:0.8115, Val Loss:0.9591\n",
            "          Train Accuracy:0.6667, Val Accuracy:0.6000\n",
            "Finished Training\n",
            "Total time elapsed: 4.80 seconds\n"
          ],
          "name": "stdout"
        },
        {
          "output_type": "display_data",
          "data": {
            "image/png": "[encoded data removed]",
            "text/plain": [
              "<Figure size 576x396 with 1 Axes>"
            ]
          },
          "metadata": {
            "tags": []
          }
        },
        {
          "output_type": "display_data",
          "data": {
            "image/png": "[encoded data removed]",
            "text/plain": [
              "<Figure size 576x396 with 1 Axes>"
            ]
          },
          "metadata": {
            "tags": []
          }
        }
      ]
    },
    {
      "metadata": {
        "id": "YycydPEygY1e",
        "colab_type": "code",
        "outputId": "e885ce05-1f15-4095-946a-be2f67055e67",
        "colab": {
          "base_uri": "https://localhost:8080/",
          "height": 4169
        }
      },
      "cell_type": "code",
      "source": [
        "model1 = SiameseAutoencoder()\n",
        "model2 = SiameseClassifier()\n",
        "train(model1, model2, poke_df, combat_df, num_epochs=100, batch_size=32, lr=1e-3)"
      ],
      "execution_count": 0,
      "outputs": [
        {
          "output_type": "stream",
          "text": [
            "Epoch 1: Train Loss:0.0208, Val Loss:0.0096\n",
            "          Train Accuracy:0.8325, Val Accuracy:0.9879\n",
            "Epoch 2: Train Loss:0.0084, Val Loss:0.0076\n",
            "          Train Accuracy:0.9912, Val Accuracy:0.9929\n",
            "Epoch 3: Train Loss:0.0072, Val Loss:0.0068\n",
            "          Train Accuracy:0.9942, Val Accuracy:0.9961\n",
            "Epoch 4: Train Loss:0.0065, Val Loss:0.0063\n",
            "          Train Accuracy:0.9967, Val Accuracy:0.9974\n",
            "Epoch 5: Train Loss:0.0061, Val Loss:0.0059\n",
            "          Train Accuracy:0.9981, Val Accuracy:0.9979\n",
            "Epoch 6: Train Loss:0.0057, Val Loss:0.0056\n",
            "          Train Accuracy:0.9985, Val Accuracy:0.9985\n",
            "Epoch 7: Train Loss:0.0055, Val Loss:0.0054\n",
            "          Train Accuracy:0.9988, Val Accuracy:0.9987\n",
            "Epoch 8: Train Loss:0.0052, Val Loss:0.0051\n",
            "          Train Accuracy:0.9992, Val Accuracy:0.9989\n",
            "Epoch 9: Train Loss:0.0050, Val Loss:0.0050\n",
            "          Train Accuracy:0.9992, Val Accuracy:0.9991\n",
            "Epoch 10: Train Loss:0.0049, Val Loss:0.0049\n",
            "          Train Accuracy:0.9994, Val Accuracy:0.9992\n",
            "Epoch 11: Train Loss:0.0048, Val Loss:0.0048\n",
            "          Train Accuracy:0.9994, Val Accuracy:0.9992\n",
            "Epoch 12: Train Loss:0.0047, Val Loss:0.0047\n",
            "          Train Accuracy:0.9994, Val Accuracy:0.9993\n",
            "Epoch 13: Train Loss:0.0046, Val Loss:0.0046\n",
            "          Train Accuracy:0.9994, Val Accuracy:0.9995\n",
            "Epoch 14: Train Loss:0.0045, Val Loss:0.0045\n",
            "          Train Accuracy:0.9994, Val Accuracy:0.9996\n",
            "Epoch 15: Train Loss:0.0045, Val Loss:0.0044\n",
            "          Train Accuracy:0.9994, Val Accuracy:0.9996\n",
            "Epoch 16: Train Loss:0.0044, Val Loss:0.0044\n",
            "          Train Accuracy:0.9995, Val Accuracy:0.9996\n",
            "Epoch 17: Train Loss:0.0043, Val Loss:0.0043\n",
            "          Train Accuracy:0.9995, Val Accuracy:0.9996\n",
            "Epoch 18: Train Loss:0.0043, Val Loss:0.0043\n",
            "          Train Accuracy:0.9996, Val Accuracy:0.9997\n",
            "Epoch 19: Train Loss:0.0042, Val Loss:0.0043\n",
            "          Train Accuracy:0.9996, Val Accuracy:0.9997\n",
            "Epoch 20: Train Loss:0.0042, Val Loss:0.0042\n",
            "          Train Accuracy:0.9999, Val Accuracy:0.9998\n",
            "Epoch 21: Train Loss:0.0042, Val Loss:0.0042\n",
            "          Train Accuracy:1.0000, Val Accuracy:0.9998\n",
            "Epoch 22: Train Loss:0.0042, Val Loss:0.0042\n",
            "          Train Accuracy:1.0000, Val Accuracy:0.9998\n",
            "Epoch 23: Train Loss:0.0041, Val Loss:0.0042\n",
            "          Train Accuracy:1.0000, Val Accuracy:0.9999\n",
            "Epoch 24: Train Loss:0.0041, Val Loss:0.0041\n",
            "          Train Accuracy:1.0000, Val Accuracy:0.9999\n",
            "Epoch 25: Train Loss:0.0041, Val Loss:0.0041\n",
            "          Train Accuracy:1.0000, Val Accuracy:0.9999\n",
            "Epoch 26: Train Loss:0.0041, Val Loss:0.0041\n",
            "          Train Accuracy:1.0000, Val Accuracy:0.9999\n",
            "Epoch 27: Train Loss:0.0041, Val Loss:0.0041\n",
            "          Train Accuracy:1.0000, Val Accuracy:0.9999\n",
            "Epoch 28: Train Loss:0.0041, Val Loss:0.0041\n",
            "          Train Accuracy:1.0000, Val Accuracy:0.9999\n",
            "Epoch 29: Train Loss:0.0040, Val Loss:0.0041\n",
            "          Train Accuracy:1.0000, Val Accuracy:0.9999\n",
            "Epoch 30: Train Loss:0.0040, Val Loss:0.0041\n",
            "          Train Accuracy:1.0000, Val Accuracy:1.0000\n",
            "Epoch 31: Train Loss:0.0040, Val Loss:0.0041\n",
            "          Train Accuracy:1.0000, Val Accuracy:1.0000\n",
            "Epoch 32: Train Loss:0.0040, Val Loss:0.0041\n",
            "          Train Accuracy:1.0000, Val Accuracy:1.0000\n",
            "Epoch 33: Train Loss:0.0040, Val Loss:0.0041\n",
            "          Train Accuracy:1.0000, Val Accuracy:1.0000\n",
            "Epoch 34: Train Loss:0.0040, Val Loss:0.0041\n",
            "          Train Accuracy:1.0000, Val Accuracy:1.0000\n",
            "Epoch 35: Train Loss:0.0040, Val Loss:0.0040\n",
            "          Train Accuracy:1.0000, Val Accuracy:0.9999\n",
            "Epoch 36: Train Loss:0.0040, Val Loss:0.0040\n",
            "          Train Accuracy:1.0000, Val Accuracy:0.9999\n",
            "Epoch 37: Train Loss:0.0040, Val Loss:0.0040\n",
            "          Train Accuracy:1.0000, Val Accuracy:0.9999\n",
            "Epoch 38: Train Loss:0.0040, Val Loss:0.0040\n",
            "          Train Accuracy:1.0000, Val Accuracy:0.9999\n",
            "Epoch 39: Train Loss:0.0040, Val Loss:0.0040\n",
            "          Train Accuracy:1.0000, Val Accuracy:0.9999\n",
            "Epoch 40: Train Loss:0.0040, Val Loss:0.0040\n",
            "          Train Accuracy:1.0000, Val Accuracy:0.9999\n",
            "Epoch 41: Train Loss:0.0040, Val Loss:0.0040\n",
            "          Train Accuracy:1.0000, Val Accuracy:0.9999\n",
            "Epoch 42: Train Loss:0.0040, Val Loss:0.0040\n",
            "          Train Accuracy:1.0000, Val Accuracy:0.9999\n",
            "Epoch 43: Train Loss:0.0039, Val Loss:0.0040\n",
            "          Train Accuracy:1.0000, Val Accuracy:0.9999\n",
            "Epoch 44: Train Loss:0.0039, Val Loss:0.0040\n",
            "          Train Accuracy:1.0000, Val Accuracy:0.9999\n",
            "Epoch 45: Train Loss:0.0039, Val Loss:0.0040\n",
            "          Train Accuracy:1.0000, Val Accuracy:0.9999\n",
            "Epoch 46: Train Loss:0.0039, Val Loss:0.0040\n",
            "          Train Accuracy:1.0000, Val Accuracy:0.9999\n",
            "Epoch 47: Train Loss:0.0039, Val Loss:0.0039\n",
            "          Train Accuracy:1.0000, Val Accuracy:0.9999\n",
            "Epoch 48: Train Loss:0.0039, Val Loss:0.0039\n",
            "          Train Accuracy:1.0000, Val Accuracy:0.9999\n",
            "Epoch 49: Train Loss:0.0039, Val Loss:0.0039\n",
            "          Train Accuracy:1.0000, Val Accuracy:0.9999\n",
            "Epoch 50: Train Loss:0.0039, Val Loss:0.0039\n",
            "          Train Accuracy:1.0000, Val Accuracy:0.9999\n",
            "Epoch 51: Train Loss:0.0039, Val Loss:0.0039\n",
            "          Train Accuracy:1.0000, Val Accuracy:0.9999\n",
            "Epoch 52: Train Loss:0.0039, Val Loss:0.0039\n",
            "          Train Accuracy:1.0000, Val Accuracy:0.9999\n",
            "Epoch 53: Train Loss:0.0039, Val Loss:0.0039\n",
            "          Train Accuracy:1.0000, Val Accuracy:0.9999\n",
            "Epoch 54: Train Loss:0.0039, Val Loss:0.0039\n",
            "          Train Accuracy:1.0000, Val Accuracy:0.9999\n",
            "Epoch 55: Train Loss:0.0039, Val Loss:0.0039\n",
            "          Train Accuracy:1.0000, Val Accuracy:0.9999\n",
            "Epoch 56: Train Loss:0.0038, Val Loss:0.0039\n",
            "          Train Accuracy:1.0000, Val Accuracy:0.9999\n",
            "Epoch 57: Train Loss:0.0038, Val Loss:0.0039\n",
            "          Train Accuracy:1.0000, Val Accuracy:0.9998\n",
            "Epoch 58: Train Loss:0.0038, Val Loss:0.0039\n",
            "          Train Accuracy:1.0000, Val Accuracy:0.9997\n",
            "Epoch 59: Train Loss:0.0038, Val Loss:0.0039\n",
            "          Train Accuracy:1.0000, Val Accuracy:0.9998\n",
            "Epoch 60: Train Loss:0.0038, Val Loss:0.0039\n",
            "          Train Accuracy:1.0000, Val Accuracy:0.9997\n",
            "Epoch 61: Train Loss:0.0038, Val Loss:0.0039\n",
            "          Train Accuracy:1.0000, Val Accuracy:0.9997\n",
            "Epoch 62: Train Loss:0.0038, Val Loss:0.0039\n",
            "          Train Accuracy:0.9996, Val Accuracy:0.9992\n",
            "Epoch 63: Train Loss:0.0038, Val Loss:0.0039\n",
            "          Train Accuracy:0.9999, Val Accuracy:0.9998\n",
            "Epoch 64: Train Loss:0.0038, Val Loss:0.0039\n",
            "          Train Accuracy:1.0000, Val Accuracy:0.9997\n",
            "Epoch 65: Train Loss:0.0038, Val Loss:0.0039\n",
            "          Train Accuracy:1.0000, Val Accuracy:0.9996\n",
            "Epoch 66: Train Loss:0.0038, Val Loss:0.0038\n",
            "          Train Accuracy:1.0000, Val Accuracy:0.9996\n",
            "Epoch 67: Train Loss:0.0038, Val Loss:0.0038\n",
            "          Train Accuracy:1.0000, Val Accuracy:0.9996\n",
            "Epoch 68: Train Loss:0.0038, Val Loss:0.0038\n",
            "          Train Accuracy:1.0000, Val Accuracy:0.9996\n",
            "Epoch 69: Train Loss:0.0037, Val Loss:0.0038\n",
            "          Train Accuracy:1.0000, Val Accuracy:0.9996\n",
            "Epoch 70: Train Loss:0.0037, Val Loss:0.0038\n",
            "          Train Accuracy:1.0000, Val Accuracy:0.9996\n",
            "Epoch 71: Train Loss:0.0037, Val Loss:0.0038\n",
            "          Train Accuracy:1.0000, Val Accuracy:0.9997\n",
            "Epoch 72: Train Loss:0.0037, Val Loss:0.0038\n",
            "          Train Accuracy:1.0000, Val Accuracy:0.9997\n",
            "Epoch 73: Train Loss:0.0037, Val Loss:0.0039\n",
            "          Train Accuracy:1.0000, Val Accuracy:0.9993\n",
            "Epoch 74: Train Loss:0.0037, Val Loss:0.0038\n",
            "          Train Accuracy:1.0000, Val Accuracy:0.9994\n",
            "Epoch 75: Train Loss:0.0037, Val Loss:0.0038\n",
            "          Train Accuracy:1.0000, Val Accuracy:0.9994\n",
            "Epoch 76: Train Loss:0.0037, Val Loss:0.0038\n",
            "          Train Accuracy:1.0000, Val Accuracy:0.9996\n",
            "Epoch 77: Train Loss:0.0037, Val Loss:0.0038\n",
            "          Train Accuracy:1.0000, Val Accuracy:0.9996\n",
            "Epoch 78: Train Loss:0.0037, Val Loss:0.0038\n",
            "          Train Accuracy:1.0000, Val Accuracy:0.9997\n",
            "Epoch 79: Train Loss:0.0037, Val Loss:0.0038\n",
            "          Train Accuracy:1.0000, Val Accuracy:0.9997\n",
            "Epoch 80: Train Loss:0.0037, Val Loss:0.0038\n",
            "          Train Accuracy:1.0000, Val Accuracy:0.9997\n",
            "Epoch 81: Train Loss:0.0037, Val Loss:0.0038\n",
            "          Train Accuracy:1.0000, Val Accuracy:0.9997\n",
            "Epoch 82: Train Loss:0.0037, Val Loss:0.0038\n",
            "          Train Accuracy:1.0000, Val Accuracy:0.9997\n",
            "Epoch 83: Train Loss:0.0037, Val Loss:0.0038\n",
            "          Train Accuracy:1.0000, Val Accuracy:0.9997\n",
            "Epoch 84: Train Loss:0.0037, Val Loss:0.0038\n",
            "          Train Accuracy:1.0000, Val Accuracy:0.9996\n",
            "Epoch 85: Train Loss:0.0037, Val Loss:0.0038\n",
            "          Train Accuracy:1.0000, Val Accuracy:0.9996\n",
            "Epoch 86: Train Loss:0.0037, Val Loss:0.0038\n",
            "          Train Accuracy:1.0000, Val Accuracy:0.9996\n",
            "Epoch 87: Train Loss:0.0037, Val Loss:0.0038\n",
            "          Train Accuracy:1.0000, Val Accuracy:0.9996\n",
            "Epoch 88: Train Loss:0.0037, Val Loss:0.0038\n",
            "          Train Accuracy:1.0000, Val Accuracy:0.9996\n",
            "Epoch 89: Train Loss:0.0037, Val Loss:0.0038\n",
            "          Train Accuracy:1.0000, Val Accuracy:0.9996\n",
            "Epoch 90: Train Loss:0.0037, Val Loss:0.0038\n",
            "          Train Accuracy:1.0000, Val Accuracy:0.9996\n",
            "Epoch 91: Train Loss:0.0037, Val Loss:0.0038\n",
            "          Train Accuracy:1.0000, Val Accuracy:0.9996\n",
            "Epoch 92: Train Loss:0.0037, Val Loss:0.0039\n",
            "          Train Accuracy:1.0000, Val Accuracy:0.9989\n",
            "Epoch 93: Train Loss:0.0037, Val Loss:0.0039\n",
            "          Train Accuracy:1.0000, Val Accuracy:0.9994\n",
            "Epoch 94: Train Loss:0.0037, Val Loss:0.0038\n",
            "          Train Accuracy:1.0000, Val Accuracy:0.9996\n",
            "Epoch 95: Train Loss:0.0037, Val Loss:0.0038\n",
            "          Train Accuracy:1.0000, Val Accuracy:0.9996\n",
            "Epoch 96: Train Loss:0.0037, Val Loss:0.0038\n",
            "          Train Accuracy:1.0000, Val Accuracy:0.9997\n",
            "Epoch 97: Train Loss:0.0037, Val Loss:0.0038\n",
            "          Train Accuracy:1.0000, Val Accuracy:0.9995\n",
            "Epoch 98: Train Loss:0.0037, Val Loss:0.0039\n",
            "          Train Accuracy:1.0000, Val Accuracy:0.9993\n",
            "Epoch 99: Train Loss:0.0037, Val Loss:0.0039\n",
            "          Train Accuracy:1.0000, Val Accuracy:0.9988\n",
            "Epoch 100: Train Loss:0.0037, Val Loss:0.0038\n",
            "          Train Accuracy:1.0000, Val Accuracy:0.9997\n",
            "Finished Training\n",
            "Total time elapsed: 138.23 seconds\n"
          ],
          "name": "stdout"
        },
        {
          "output_type": "display_data",
          "data": {
            "image/png": "[encoded data removed]",
            "text/plain": [
              "<Figure size 576x396 with 1 Axes>"
            ]
          },
          "metadata": {
            "tags": []
          }
        },
        {
          "output_type": "display_data",
          "data": {
            "image/png": "[encoded data removed]",
            "text/plain": [
              "<Figure size 576x396 with 1 Axes>"
            ]
          },
          "metadata": {
            "tags": []
          }
        }
      ]
    },
    {
      "metadata": {
        "id": "hAfdNn2JRLxK",
        "colab_type": "text"
      },
      "cell_type": "markdown",
      "source": [
        "# Tuning hyper parameter"
      ]
    },
    {
      "metadata": {
        "id": "liuSNLriRRRh",
        "colab_type": "code",
        "colab": {}
      },
      "cell_type": "code",
      "source": [
        ""
      ],
      "execution_count": 0,
      "outputs": []
    },
    {
      "metadata": {
        "id": "bM42Ixu7RSEi",
        "colab_type": "text"
      },
      "cell_type": "markdown",
      "source": [
        "redefine the func"
      ]
    },
    {
      "metadata": {
        "id": "bg27BciXz0p5",
        "colab_type": "text"
      },
      "cell_type": "markdown",
      "source": [
        "# setting up google sheet for tuning"
      ]
    },
    {
      "metadata": {
        "id": "c7U1POp2nkQG",
        "colab_type": "code",
        "colab": {}
      },
      "cell_type": "code",
      "source": [
        "!pip install --upgrade -q gspread"
      ],
      "execution_count": 0,
      "outputs": []
    },
    {
      "metadata": {
        "id": "704QbJ3-oPFu",
        "colab_type": "code",
        "colab": {}
      },
      "cell_type": "code",
      "source": [
        "from google.colab import auth\n",
        "auth.authenticate_user()\n",
        "\n",
        "import gspread\n",
        "from oauth2client.client import GoogleCredentials\n",
        "\n",
        "gc = gspread.authorize(GoogleCredentials.get_application_default())"
      ],
      "execution_count": 0,
      "outputs": []
    },
    {
      "metadata": {
        "id": "_MCGAehbvVCk",
        "colab_type": "code",
        "colab": {}
      },
      "cell_type": "code",
      "source": [
        "# open sheet in google drive\n",
        "sh = gc.open_by_url('https://docs.google.com/spreadsheets/d/1Jj7nuYjObo5FL9oTKpg90dt7Ojw8g-eWrUYc3LUPpAs/edit?usp=sharing')\n",
        "worksheet = sh.get_worksheet(0)"
      ],
      "execution_count": 0,
      "outputs": []
    },
    {
      "metadata": {
        "id": "t0mDOTYRkVqa",
        "colab_type": "text"
      },
      "cell_type": "markdown",
      "source": [
        "# first tune"
      ]
    },
    {
      "metadata": {
        "colab_type": "code",
        "outputId": "15287900-d8b3-4c5f-e55c-b58db0ee5737",
        "id": "LLQUmc6fQySO",
        "colab": {
          "base_uri": "https://localhost:8080/",
          "height": 357
        }
      },
      "cell_type": "code",
      "source": [
        "b= 5 #batchsize number: 20 to 100\n",
        "r= 4 # lr from 0.02 to 0.2\n",
        "\n",
        "for i in range (b):\n",
        "  batchsize=20+i*20\n",
        "  worksheet.update_acell(('A{}').format(i*(r)+2),str(batchsize))\n",
        "  \n",
        "  for j in range(r):\n",
        "      \n",
        "      l_rate=0.02+j*(0.02)\n",
        "      \n",
        "      \n",
        "      model1 = SiameseAutoencoder()\n",
        "      model2 = SiameseClassifier()\n",
        "      acc = train(model1, model2, poke_df, combat_df, num_epochs=50, batch_size=batchsize, lr=l_rate)\n",
        "      worksheet.update_acell(('B{}').format(i*(r)+2+j),str(l_rate))\n",
        "      worksheet.update_acell(('C{}').format(i*(r)+2+j),str(acc))"
      ],
      "execution_count": 0,
      "outputs": [
        {
          "output_type": "stream",
          "text": [
            "Finished Training\n",
            "Finished Training\n",
            "Finished Training\n",
            "Finished Training\n",
            "Finished Training\n",
            "Finished Training\n",
            "Finished Training\n",
            "Finished Training\n",
            "Finished Training\n",
            "Finished Training\n",
            "Finished Training\n",
            "Finished Training\n",
            "Finished Training\n",
            "Finished Training\n",
            "Finished Training\n",
            "Finished Training\n",
            "Finished Training\n",
            "Finished Training\n",
            "Finished Training\n",
            "Finished Training\n"
          ],
          "name": "stdout"
        }
      ]
    },
    {
      "metadata": {
        "id": "_0mMl6FfZKVH",
        "colab_type": "text"
      },
      "cell_type": "markdown",
      "source": [
        "# second tune"
      ]
    },
    {
      "metadata": {
        "id": "YqizN7BgZWPY",
        "colab_type": "code",
        "colab": {}
      },
      "cell_type": "code",
      "source": [
        "from google.colab import auth\n",
        "auth.authenticate_user()\n",
        "\n",
        "import gspread\n",
        "from oauth2client.client import GoogleCredentials\n",
        "\n",
        "gc = gspread.authorize(GoogleCredentials.get_application_default())\n",
        "# open another sheet in google drive\n",
        "sh = gc.open_by_url('https://docs.google.com/spreadsheets/d/1Jj7nuYjObo5FL9oTKpg90dt7Ojw8g-eWrUYc3LUPpAs/edit?usp=sharing')\n",
        "worksheet1 = sh.get_worksheet(1)"
      ],
      "execution_count": 0,
      "outputs": []
    },
    {
      "metadata": {
        "id": "5_NNKDY5ZeN4",
        "colab_type": "code",
        "outputId": "654baeeb-a797-4d61-b128-ae68e8f1160d",
        "colab": {
          "base_uri": "https://localhost:8080/",
          "height": 187
        }
      },
      "cell_type": "code",
      "source": [
        "b= 2 #batchsize number: 20 to 100\n",
        "r= 5 # lr from 0.02 to 0.2\n",
        "\n",
        "for i in range (b):\n",
        "  batchsize=40+i*20\n",
        "  worksheet1.update_acell(('A{}').format(i*(r)+2),str(batchsize))\n",
        "  \n",
        "  for j in range(r):\n",
        "      \n",
        "      l_rate=0.002+j*(0.002)\n",
        "      \n",
        "      \n",
        "      model1 = SiameseAutoencoder()\n",
        "      model2 = SiameseClassifier()\n",
        "      acc = train(model1, model2, poke_df, combat_df, num_epochs=50, batch_size=batchsize, lr=l_rate)\n",
        "      worksheet1.update_acell(('B{}').format(i*(r)+2+j),str(l_rate))\n",
        "      worksheet1.update_acell(('C{}').format(i*(r)+2+j),str(acc))"
      ],
      "execution_count": 0,
      "outputs": [
        {
          "output_type": "stream",
          "text": [
            "Finished Training\n",
            "Finished Training\n",
            "Finished Training\n",
            "Finished Training\n",
            "Finished Training\n",
            "Finished Training\n",
            "Finished Training\n",
            "Finished Training\n",
            "Finished Training\n",
            "Finished Training\n"
          ],
          "name": "stdout"
        }
      ]
    },
    {
      "metadata": {
        "id": "-6fnwHz4zwgT",
        "colab_type": "text"
      },
      "cell_type": "markdown",
      "source": [
        "# 3rd tune"
      ]
    },
    {
      "metadata": {
        "id": "TYsFwha0zzVK",
        "colab_type": "code",
        "outputId": "1865e677-8101-4d78-cd04-50df2e18940e",
        "colab": {
          "base_uri": "https://localhost:8080/",
          "height": 425
        }
      },
      "cell_type": "code",
      "source": [
        "# open another sheet in google drive\n",
        "sh = gc.open_by_url('https://docs.google.com/spreadsheets/d/1Jj7nuYjObo5FL9oTKpg90dt7Ojw8g-eWrUYc3LUPpAs/edit?usp=sharing')\n",
        "worksheet2 = sh.get_worksheet(2)\n",
        "\n",
        "b= 3 #batchsize number: 50 to 80\n",
        "r= 8 # lr from 0.0005 to 0.004\n",
        "\n",
        "for i in range (b):\n",
        "  batchsize=50+i*10\n",
        "  worksheet2.update_acell(('A{}').format(i*(r)+2),str(batchsize))\n",
        "  \n",
        "  for j in range(r):\n",
        "      \n",
        "      l_rate=0.0005+j*(0.0005)\n",
        "      \n",
        "      \n",
        "      model1 = SiameseAutoencoder()\n",
        "      model2 = SiameseClassifier()\n",
        "      acc = train(model1, model2, poke_df, combat_df, num_epochs=50, batch_size=batchsize, lr=l_rate)\n",
        "      worksheet2.update_acell(('B{}').format(i*(r)+2+j),str(l_rate))\n",
        "      worksheet2.update_acell(('C{}').format(i*(r)+2+j),str(acc))"
      ],
      "execution_count": 0,
      "outputs": [
        {
          "output_type": "stream",
          "text": [
            "Finished Training\n",
            "Finished Training\n",
            "Finished Training\n",
            "Finished Training\n",
            "Finished Training\n",
            "Finished Training\n",
            "Finished Training\n",
            "Finished Training\n",
            "Finished Training\n",
            "Finished Training\n",
            "Finished Training\n",
            "Finished Training\n",
            "Finished Training\n",
            "Finished Training\n",
            "Finished Training\n",
            "Finished Training\n",
            "Finished Training\n",
            "Finished Training\n",
            "Finished Training\n",
            "Finished Training\n",
            "Finished Training\n",
            "Finished Training\n",
            "Finished Training\n",
            "Finished Training\n"
          ],
          "name": "stdout"
        }
      ]
    },
    {
      "metadata": {
        "id": "Mf2ak1K5zptz",
        "colab_type": "text"
      },
      "cell_type": "markdown",
      "source": [
        "# conclusion"
      ]
    },
    {
      "metadata": {
        "id": "D1SAFOMKzscC",
        "colab_type": "text"
      },
      "cell_type": "markdown",
      "source": [
        "learning rate:0.0015\n",
        "batchsize:60"
      ]
    },
    {
      "metadata": {
        "id": "xeoxUhtQCBrz",
        "colab_type": "text"
      },
      "cell_type": "markdown",
      "source": [
        "# tune of net"
      ]
    },
    {
      "metadata": {
        "id": "FJ98NqMICFOA",
        "colab_type": "text"
      },
      "cell_type": "markdown",
      "source": [
        "worksheet3 = sh.get_worksheet(3![alt text](https://))"
      ]
    },
    {
      "metadata": {
        "id": "yrpBglNWCZsw",
        "colab_type": "code",
        "outputId": "ca839b18-4e11-489c-9901-756a07c6841c",
        "colab": {
          "base_uri": "https://localhost:8080/",
          "height": 425
        }
      },
      "cell_type": "code",
      "source": [
        "\n",
        "worksheet3 = sh.get_worksheet(3)\n",
        "\n",
        "b= 3 #batchsize number: 50 to 80\n",
        "r= 8 # lr from 0.0005 to 0.004\n",
        "\n",
        "for i in range (b):\n",
        "  batchsize=50+i*10\n",
        "  worksheet3.update_acell(('A{}').format(i*(r)+2),str(batchsize))\n",
        "  \n",
        "  for j in range(r):\n",
        "      \n",
        "      l_rate=0.0005+j*(0.0005)\n",
        "      \n",
        "      \n",
        "      model1 = SiameseAutoencoder()\n",
        "      model2_b = SiameseClassifier_b()\n",
        "      acc = train(model1, model2_b, poke_df, combat_df, num_epochs=50, batch_size=batchsize, lr=l_rate)\n",
        "      worksheet3.update_acell(('B{}').format(i*(r)+2+j),str(l_rate))\n",
        "      worksheet3.update_acell(('C{}').format(i*(r)+2+j),str(acc))\n"
      ],
      "execution_count": 0,
      "outputs": [
        {
          "output_type": "stream",
          "text": [
            "Finished Training\n",
            "Finished Training\n",
            "Finished Training\n",
            "Finished Training\n",
            "Finished Training\n",
            "Finished Training\n",
            "Finished Training\n",
            "Finished Training\n",
            "Finished Training\n",
            "Finished Training\n",
            "Finished Training\n",
            "Finished Training\n",
            "Finished Training\n",
            "Finished Training\n",
            "Finished Training\n",
            "Finished Training\n",
            "Finished Training\n",
            "Finished Training\n",
            "Finished Training\n",
            "Finished Training\n",
            "Finished Training\n",
            "Finished Training\n",
            "Finished Training\n",
            "Finished Training\n"
          ],
          "name": "stdout"
        }
      ]
    },
    {
      "metadata": {
        "id": "uDMU7hooMkDN",
        "colab_type": "text"
      },
      "cell_type": "markdown",
      "source": [
        "# PLAN"
      ]
    },
    {
      "metadata": {
        "id": "b1mSglIrMHcO",
        "colab_type": "text"
      },
      "cell_type": "markdown",
      "source": [
        "\n",
        "So far, a model that predicts the combat winner between two Pokemons has been developed. Further algorithms that utilizing the model to select main pokemon and its synergies would be developed. Meanwhile, further adjustments and iteration on the model and algorithms will be carried to improve prediction performance. \n",
        "Detailed further tasks and internal deadline are detailed in the following table.\n",
        "Project Related Tasks\n"
      ]
    },
    {
      "metadata": {
        "id": "ao39krIoMkSj",
        "colab_type": "text"
      },
      "cell_type": "markdown",
      "source": [
        "Task----Deadline \n",
        "\n",
        "Further Tuning of Hyper Parameters----- Mar. 19, 2019 \n",
        "\n",
        "Develop Related Functions for multiple purposes (Searching Best Synergy, Predicting Success Chance etc.) -----Mar. 21, 2019 \n",
        "\n",
        "General Checking and Debugging-----Mar. 23, 2019 \n",
        "\n",
        "Final Testing and Training-----Mar. 24, 2019\n",
        "\n",
        "Course Related Tasks\n",
        "\n",
        "Task-----Deadline \n",
        "\n",
        "Prepare Project Presentation Slides-----Mar. 27, 2019 \n",
        "\n",
        "Prepare for Presentation-----TBD Prepare Final Report------April 4, 2019"
      ]
    },
    {
      "metadata": {
        "id": "eqnzSH_IYFyf",
        "colab_type": "code",
        "colab": {}
      },
      "cell_type": "code",
      "source": [
        ""
      ],
      "execution_count": 0,
      "outputs": []
    },
    {
      "metadata": {
        "id": "E9sJL1g9OKtG",
        "colab_type": "code",
        "colab": {}
      },
      "cell_type": "code",
      "source": [
        "######################## FROM ASSIGNMENT 4 ##############################\n",
        "cat_index = {}  # Mapping of feature -> start index of feature in a record\n",
        "cat_values = {} # Mapping of feature -> list of categorical values the feature can take\n",
        "\n",
        "# Build up the cat_index and cat_values dictionary\n",
        "for i, header in enumerate(poke_df.keys()):\n",
        "    if \"_\" in header: # categorical header\n",
        "        feature, value = header.split('_')\n",
        "        #feature = feature[:-1] # remove the last char; it is always an underscore\n",
        "        if feature not in cat_index:\n",
        "            cat_index[feature] = i\n",
        "            cat_values[feature] = [value]\n",
        "        else:\n",
        "            cat_values[feature].append(value)\n",
        "\n",
        "def get_onehot(record, feature):\n",
        "    \"\"\"\n",
        "    Return the portion of `record` that is the one-hot encoding\n",
        "    of feature. For example, since the feature \"work\" is stored\n",
        "    in the indices [5:12] in each record, calling `get_range(record, \"work\")`\n",
        "    is equivalent to accessing `record[5:12]`.\n",
        "    \n",
        "    Args:\n",
        "        - record: a numpy array representing one record, formatted\n",
        "                  the same way as a row in `data.np`\n",
        "        - feature: a string, should be an element of `catcols`\n",
        "    \"\"\"\n",
        "    start_index = cat_index[feature]\n",
        "    stop_index = cat_index[feature] + len(cat_values[feature])\n",
        "    return record[start_index:stop_index]\n",
        "\n",
        "def get_categorical_value(onehot, feature):\n",
        "    \"\"\"\n",
        "    Return the categorical value name of a feature given\n",
        "    a one-hot vector representing the feature.\n",
        "    \n",
        "    Args:\n",
        "        - onehot: a numpy array one-hot representation of the feature\n",
        "        - feature: a string, should be an element of `catcols`\n",
        "        \n",
        "    Examples:\n",
        "    \n",
        "    >>> get_categorical_value(np.array([0., 0., 0., 0., 0., 1., 0.]), \"work\")\n",
        "    'State-gov'\n",
        "    >>> get_categorical_value(np.array([0.1, 0., 1.1, 0.2, 0., 1., 0.]), \"work\")\n",
        "    'Private'\n",
        "    \"\"\"\n",
        "    max_num = onehot.max()\n",
        "    for i, num in enumerate(onehot):\n",
        "        if num == max_num:\n",
        "            index = i\n",
        "    \n",
        "    return cat_values[feature][index]\n",
        "    \n",
        "def get_feature(record, feature):\n",
        "    \"\"\"\n",
        "    Return the categorical feature value of a record\n",
        "    \"\"\"\n",
        "    onehot = get_onehot(record, feature)\n",
        "    return get_categorical_value(onehot, feature)\n",
        "\n",
        "def get_features(record):\n",
        "    \"\"\"\n",
        "    Return a dictionary of all categorical feature values of a record\n",
        "    \"\"\"\n",
        "    return { f: get_feature(record, f) for f in categ }"
      ],
      "execution_count": 0,
      "outputs": []
    },
    {
      "metadata": {
        "id": "sM9dowDTP4oD",
        "colab_type": "code",
        "outputId": "d24bb154-e032-4de9-9fca-6558a5dafb19",
        "colab": {
          "base_uri": "https://localhost:8080/",
          "height": 85
        }
      },
      "cell_type": "code",
      "source": [
        "np_data = poke_df.values.astype(np.int64)\n",
        "get_features(np_data[0])"
      ],
      "execution_count": 0,
      "outputs": [
        {
          "output_type": "execute_result",
          "data": {
            "text/plain": [
              "{'against': 'psychic',\n",
              " 'legendary': 'False',\n",
              " 'type1': 'Grass',\n",
              " 'type2': 'Poison'}"
            ]
          },
          "metadata": {
            "tags": []
          },
          "execution_count": 89
        }
      ]
    }
  ]
}